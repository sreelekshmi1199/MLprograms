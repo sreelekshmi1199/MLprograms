{
  "cells": [
    {
      "cell_type": "markdown",
      "metadata": {
        "id": "view-in-github",
        "colab_type": "text"
      },
      "source": [
        "<a href=\"https://colab.research.google.com/github/sreelekshmi1199/MLprograms/blob/main/web_scraping_using_python_scraping_stock_market_news.ipynb\" target=\"_parent\"><img src=\"https://colab.research.google.com/assets/colab-badge.svg\" alt=\"Open In Colab\"/></a>"
      ]
    },
    {
      "cell_type": "markdown",
      "id": "1c5fb637",
      "metadata": {
        "id": "1c5fb637"
      },
      "source": [
        "Web scraping - scraping stock market news\n",
        "\n",
        "\n",
        "Web scraping is an automated method used to extract large amounts of data from websites. \n",
        "When you run the code for web scraping, a request is sent to the URL that you have mentioned. As a response to the request, the server sends the data and allows you to read the HTML or XML page. The code then, parses the HTML or XML page, finds the data and extracts it. \n",
        "\n",
        "To extract data using web scraping with python, you need to follow these basic steps:\n",
        "\n",
        "    Find the URL that you want to scrape\n",
        "    Inspecting the Page\n",
        "    Find the data you want to extract\n",
        "    Write the code\n",
        "    Run the code and extract the data\n",
        "    \n",
        " Algorithm\n",
        " \n",
        " step 1:Import the required libraries\n",
        "     import requests:\n",
        "         The requests module allows you to send HTTP requests using Python.\n",
        "         The HTTP request returns a Response Object with all the response data (content, encoding, status, etc).\n",
        "     import bs4:\n",
        "     from bs4 import BeautifulSoup:\n",
        "                 Beautiful Soup is a Python library for pulling data out of HTML and XML files. It works with your favorite    parser to provide idiomatic ways of navigating, searching, and modifying the parse tree. It commonly saves programmers hours or days of work\n",
        "               \n",
        " Step 2: Inspecting the Page\n",
        "\n",
        "The data is usually nested in tags. So, we inspect the page to see, under which tag the data we want to scrape is nested. To inspect the page, just right click on the element and click on “Inspect”.\n",
        "\n",
        "Step 3: Find the data you want to extract\n",
        "\n",
        "Step 4: Write the code\n",
        "\n",
        "Step 5: Run the code and extract the data\n",
        "     "
      ]
    },
    {
      "cell_type": "code",
      "execution_count": null,
      "id": "acc49619",
      "metadata": {
        "id": "acc49619"
      },
      "outputs": [],
      "source": [
        "import requests\n",
        "import bs4\n",
        "from bs4 import BeautifulSoup"
      ]
    },
    {
      "cell_type": "code",
      "execution_count": null,
      "id": "77f72cd4",
      "metadata": {
        "id": "77f72cd4"
      },
      "outputs": [],
      "source": [
        "URL = \"https://economictimes.indiatimes.com/markets/stocks/news\""
      ]
    },
    {
      "cell_type": "code",
      "execution_count": null,
      "id": "34b959da",
      "metadata": {
        "id": "34b959da"
      },
      "outputs": [],
      "source": [
        "headers = {\n",
        "    'user - Agent': 'Mozilla/5.0 (Windows NT 10.0; Win64; x64) AppleWebKit/537.36 (KHTML, like Gecko) Chrome/98.0.4758.102 Safari/537.36 Edg/98.0.1108.56'\n",
        "}"
      ]
    },
    {
      "cell_type": "code",
      "execution_count": null,
      "id": "f4e50d62",
      "metadata": {
        "id": "f4e50d62"
      },
      "outputs": [],
      "source": [
        "r = requests.get(URL,{'headers':headers})"
      ]
    },
    {
      "cell_type": "code",
      "execution_count": null,
      "id": "731b4e6c",
      "metadata": {
        "id": "731b4e6c"
      },
      "outputs": [],
      "source": [
        "soup=bs4.BeautifulSoup(r.text,'html.parser')"
      ]
    },
    {
      "cell_type": "code",
      "execution_count": null,
      "id": "739b91d8",
      "metadata": {
        "scrolled": true,
        "id": "739b91d8",
        "outputId": "f4979d01-7c78-41c3-acfb-5ffb51debb24"
      },
      "outputs": [
        {
          "name": "stdout",
          "output_type": "stream",
          "text": [
            "1\n",
            "Smartkarma Research: APAC Healthcare Series - Top picks are poised for multi-year growth\n",
            "Gland Pharma’s near-term focus remains on establishing a strong portfolio of complex injectables. The company is working on development of 17 complex injectables in first phase.\n",
            "2\n",
            "More steam left in this multibagger PSU? Here's what analyst say\n",
            "Despite the recent rise, analysts are bullish on the counter on a technical basis, suggesting investors to buy it in the near term.\n",
            "3\n",
            "Tata Steel, DMart among 5 stocks that may support your portfolio amid Ukraine crisis\n",
            "As the unfolding geopolitical crisis is draining juice out of your portfolio, it is understandable to be cautioned in the market. The uncertainty meter has reached nearly 2-year highs. But it is also creating opportunities. Below are five recommendations from analysts that may give something to cheer for:\n",
            "4\n",
            "Largecap stocks that analysts like after recent steep fall on D-Street\n",
            "Axis Securities likes TCS, Coal India, SAIL and SBI, among others. Motilal Oswal Securities has a preference for a dozen stocks post recent selloff. Among them are HDFC, SBI, Wipro, HCL Tech, L&T and Tata Motors, among others.\n",
            "5\n",
            "8 stocks with over 20% returns in each of last 5 years are falling. Worth a look?\n",
            "Among them is Alkyl Amines Chemicals, which delivered 131 per cent return in 2021, 253 per cent return in 2020, 35 per cent return in 2019, 20 per cent in 2018 and 119 per cent in 2017. \n",
            "6\n",
            "AGS Transact shares zoom 20% in 2 sessions\n",
            "On Thursday, shares of AGS Transact Technologies were locked in an upper circuit limit of 10 per cent to Rs 120.70. It had settled at Rs 109.75 on Wednesday.\n",
            "7\n",
            "NMDC climbs 3.5% as iron ore output surges\n",
            "The state-owned miner posted a 26 per cent jump in its iron ore output to 37.18 million tonnes (MT) during April-February period of 2021-22. During the year-ago period, the company had produced 29.52 MT of iron ore, the Ministry of Steel said.\n",
            "8\n",
            "Coal India surges 7% as arm set to overshoot production aim\n",
            "The share price also received a boost after Coal India said that its aim of making capital expenditure of Rs 1,640 crore remains on track.\n",
            "9\n",
            "Infosys gains over 1% as IT major says over 1 million users on its reskilling platform\n",
            "According to a statement by Infosys, the move will aid the company in making sustained progress on ESG commitments, which include digital re-skilling of 10 million people by 2025.\n",
            "10\n",
            "Vedanta zooms 3.5%; investors cheer move to announce third FY22 interim dividend\n",
            "Combining all the three dividends, Vedanta’s dividend yield comes to around at 11.62 percent of its closing price as on March 2, reports said, adding that the dividend outgo in September was Rs 6,876.82 crore while that in December was Rs 5,018.22 crore.\n"
          ]
        }
      ],
      "source": [
        "i=0\n",
        "while i<10:\n",
        "    print(i+1)\n",
        "    print(soup.find_all('div',{'class':'eachStory'})[i].find_all('a')[-1].text)\n",
        "    print(soup.find_all('div',{'class':'eachStory'})[i].find_all('p')[-1].text)\n",
        "    i+=1"
      ]
    }
  ],
  "metadata": {
    "kernelspec": {
      "display_name": "Python 3",
      "language": "python",
      "name": "python3"
    },
    "language_info": {
      "codemirror_mode": {
        "name": "ipython",
        "version": 3
      },
      "file_extension": ".py",
      "mimetype": "text/x-python",
      "name": "python",
      "nbconvert_exporter": "python",
      "pygments_lexer": "ipython3",
      "version": "3.8.8"
    },
    "colab": {
      "name": "web scraping using python- scraping stock market news.ipynb",
      "provenance": [],
      "include_colab_link": true
    }
  },
  "nbformat": 4,
  "nbformat_minor": 5
}