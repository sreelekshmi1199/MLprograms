{
  "cells": [
    {
      "cell_type": "markdown",
      "metadata": {
        "id": "view-in-github",
        "colab_type": "text"
      },
      "source": [
        "<a href=\"https://colab.research.google.com/github/sreelekshmi1199/MLprograms/blob/main/EXPERIMENT1_a.ipynb\" target=\"_parent\"><img src=\"https://colab.research.google.com/assets/colab-badge.svg\" alt=\"Open In Colab\"/></a>"
      ]
    },
    {
      "cell_type": "markdown",
      "metadata": {
        "id": "R9mw_MF0TKzh"
      },
      "source": [
        "<h1 align=\"center\">  Experiment 1.A</h1> \n",
        "Date___________________\n",
        "\n",
        "Aim: To perform a review of python programming                                                  "
      ]
    },
    {
      "cell_type": "markdown",
      "metadata": {
        "id": "jJUrTUeEUQGY"
      },
      "source": [
        "**Basic Data Types**"
      ]
    },
    {
      "cell_type": "code",
      "execution_count": null,
      "metadata": {
        "colab": {
          "base_uri": "https://localhost:8080/"
        },
        "id": "_0rcZGZfWQHj",
        "outputId": "35417c14-3fa1-4169-8d58-05b059300cf5"
      },
      "outputs": [
        {
          "name": "stdout",
          "output_type": "stream",
          "text": [
            "hello World\n"
          ]
        }
      ],
      "source": [
        "print(\"hello World\")\n"
      ]
    },
    {
      "cell_type": "code",
      "execution_count": null,
      "metadata": {
        "colab": {
          "base_uri": "https://localhost:8080/"
        },
        "id": "B3vYNTn8WoN5",
        "outputId": "90c3f1cb-f878-48ca-de1a-b468f2705a05"
      },
      "outputs": [
        {
          "name": "stdout",
          "output_type": "stream",
          "text": [
            "5\n",
            "<class 'int'>\n"
          ]
        }
      ],
      "source": [
        "a=5\n",
        "print(a)\n",
        "print(type(a))"
      ]
    },
    {
      "cell_type": "code",
      "execution_count": null,
      "metadata": {
        "colab": {
          "base_uri": "https://localhost:8080/"
        },
        "id": "Zw4DhlDlZeSG",
        "outputId": "fe225b99-207d-4afe-cda8-6b2c25fada8c"
      },
      "outputs": [
        {
          "name": "stdout",
          "output_type": "stream",
          "text": [
            "1.5\n",
            "<class 'float'>\n"
          ]
        }
      ],
      "source": [
        "f=1.5\n",
        "print(f)\n",
        "print(type(f))"
      ]
    },
    {
      "cell_type": "code",
      "execution_count": null,
      "metadata": {
        "colab": {
          "base_uri": "https://localhost:8080/"
        },
        "id": "uMEeGhVDZvMO",
        "outputId": "d5b096dd-f2ad-4a09-b16c-6c7da2ac0b20"
      },
      "outputs": [
        {
          "name": "stdout",
          "output_type": "stream",
          "text": [
            "hello\n",
            "<class 'str'>\n"
          ]
        }
      ],
      "source": [
        "s=\"hello\"\n",
        "print(s)\n",
        "print(type(s))"
      ]
    },
    {
      "cell_type": "code",
      "execution_count": null,
      "metadata": {
        "colab": {
          "base_uri": "https://localhost:8080/"
        },
        "id": "HuWBxuMgaMDq",
        "outputId": "d1596852-bec4-4d8f-a9d5-e442666952f9"
      },
      "outputs": [
        {
          "name": "stdout",
          "output_type": "stream",
          "text": [
            "True\n",
            "<class 'bool'>\n"
          ]
        }
      ],
      "source": [
        "b=True\n",
        "print(b)\n",
        "print(type(b))"
      ]
    },
    {
      "cell_type": "code",
      "execution_count": null,
      "metadata": {
        "colab": {
          "base_uri": "https://localhost:8080/"
        },
        "id": "sYlrN_Draxsp",
        "outputId": "03b1834a-a732-4e1a-8b23-8c34ce8fa1e1"
      },
      "outputs": [
        {
          "name": "stdout",
          "output_type": "stream",
          "text": [
            "True False\n"
          ]
        }
      ],
      "source": [
        "t=True\n",
        "f=False\n",
        "print(t,f)"
      ]
    },
    {
      "cell_type": "code",
      "execution_count": null,
      "metadata": {
        "colab": {
          "base_uri": "https://localhost:8080/"
        },
        "id": "B-MQPhbGaVUJ",
        "outputId": "288a5b1d-9d02-4ab9-f742-8897362e7903"
      },
      "outputs": [
        {
          "name": "stdout",
          "output_type": "stream",
          "text": [
            "(5+3j)\n",
            "<class 'complex'>\n"
          ]
        }
      ],
      "source": [
        "t=5+3j\n",
        "print(t)\n",
        "print(type(t))"
      ]
    },
    {
      "cell_type": "markdown",
      "metadata": {
        "id": "xa1ByJ4eakF4"
      },
      "source": [
        "**ARITHMETIC OPERATORS**"
      ]
    },
    {
      "cell_type": "code",
      "execution_count": null,
      "metadata": {
        "colab": {
          "base_uri": "https://localhost:8080/"
        },
        "id": "gbXS-hrRXNN0",
        "outputId": "8c12aa54-7dd6-461f-ad46-e13c1b036c26"
      },
      "outputs": [
        {
          "name": "stdout",
          "output_type": "stream",
          "text": [
            "10\n"
          ]
        }
      ],
      "source": [
        "a=7\n",
        "b=3\n",
        "sum=a+b\n",
        "print(sum)"
      ]
    },
    {
      "cell_type": "code",
      "execution_count": null,
      "metadata": {
        "colab": {
          "base_uri": "https://localhost:8080/"
        },
        "id": "Ub5Fq_svdifT",
        "outputId": "763d8984-656c-4cc3-fe3f-5809e24ece82"
      },
      "outputs": [
        {
          "name": "stdout",
          "output_type": "stream",
          "text": [
            "4\n"
          ]
        }
      ],
      "source": [
        "diff=a-b\n",
        "print(diff)\n"
      ]
    },
    {
      "cell_type": "code",
      "execution_count": null,
      "metadata": {
        "colab": {
          "base_uri": "https://localhost:8080/"
        },
        "id": "IFRUd_99dkwM",
        "outputId": "e7d1a903-79ee-45f0-9186-aa6e2691dc3d"
      },
      "outputs": [
        {
          "name": "stdout",
          "output_type": "stream",
          "text": [
            "21\n"
          ]
        }
      ],
      "source": [
        "pro=a*b\n",
        "print(pro)\n"
      ]
    },
    {
      "cell_type": "code",
      "execution_count": null,
      "metadata": {
        "colab": {
          "base_uri": "https://localhost:8080/"
        },
        "id": "sOH3uQH_dt8Q",
        "outputId": "56eb1727-7a3d-4dce-eb67-52d54578ebea"
      },
      "outputs": [
        {
          "name": "stdout",
          "output_type": "stream",
          "text": [
            "2.3333333333333335\n"
          ]
        }
      ],
      "source": [
        "quo=a/b\n",
        "print(quo)\n"
      ]
    },
    {
      "cell_type": "code",
      "execution_count": null,
      "metadata": {
        "colab": {
          "base_uri": "https://localhost:8080/"
        },
        "id": "U41Rs0LydzM7",
        "outputId": "bd26247b-864e-4efa-d681-c9edd766fef1"
      },
      "outputs": [
        {
          "name": "stdout",
          "output_type": "stream",
          "text": [
            "2\n"
          ]
        }
      ],
      "source": [
        "iquo=a//b\n",
        "print(iquo)\n"
      ]
    },
    {
      "cell_type": "code",
      "execution_count": null,
      "metadata": {
        "colab": {
          "base_uri": "https://localhost:8080/"
        },
        "id": "88SofQpMd3V5",
        "outputId": "6de61f75-7117-418b-8590-ed11a42d67f5"
      },
      "outputs": [
        {
          "name": "stdout",
          "output_type": "stream",
          "text": [
            "1\n"
          ]
        }
      ],
      "source": [
        "rem=a % b\n",
        "print(rem)"
      ]
    },
    {
      "cell_type": "code",
      "execution_count": null,
      "metadata": {
        "colab": {
          "base_uri": "https://localhost:8080/"
        },
        "id": "fCVa1OVfd7jp",
        "outputId": "08442569-333d-46b0-f493-e261286c583d"
      },
      "outputs": [
        {
          "name": "stdout",
          "output_type": "stream",
          "text": [
            "343\n"
          ]
        }
      ],
      "source": [
        "pow= a**b\n",
        "print(pow)"
      ]
    },
    {
      "cell_type": "markdown",
      "metadata": {
        "id": "TrDk2-ZVctQT"
      },
      "source": [
        "**BOOLEAN OPERATIONS**"
      ]
    },
    {
      "cell_type": "code",
      "execution_count": null,
      "metadata": {
        "colab": {
          "base_uri": "https://localhost:8080/"
        },
        "id": "5LDPNnVCc3pJ",
        "outputId": "faf9df76-a75f-428e-ecb0-7bb976e7a36d"
      },
      "outputs": [
        {
          "name": "stdout",
          "output_type": "stream",
          "text": [
            "True False\n"
          ]
        }
      ],
      "source": [
        "t=True\n",
        "f=False\n",
        "print(t,f)"
      ]
    },
    {
      "cell_type": "code",
      "execution_count": null,
      "metadata": {
        "colab": {
          "base_uri": "https://localhost:8080/"
        },
        "id": "TAsnrkY2X_Bw",
        "outputId": "921b3d83-2ff8-4673-e352-f070f0e670f8"
      },
      "outputs": [
        {
          "name": "stdout",
          "output_type": "stream",
          "text": [
            "True\n"
          ]
        }
      ],
      "source": [
        "p=5>3\n",
        "print(p)"
      ]
    },
    {
      "cell_type": "code",
      "execution_count": null,
      "metadata": {
        "colab": {
          "base_uri": "https://localhost:8080/"
        },
        "id": "5S8hL_PHdCyY",
        "outputId": "fcebbd9f-0f3e-4a71-cbfa-e6129485d1dd"
      },
      "outputs": [
        {
          "name": "stdout",
          "output_type": "stream",
          "text": [
            "False\n"
          ]
        }
      ],
      "source": [
        "q=-1<-12.5\n",
        "print(q)"
      ]
    },
    {
      "cell_type": "code",
      "execution_count": null,
      "metadata": {
        "colab": {
          "base_uri": "https://localhost:8080/"
        },
        "id": "7tae-LlJe_YE",
        "outputId": "b147f4a7-84cc-4081-adb0-03ec36a837ff"
      },
      "outputs": [
        {
          "name": "stdout",
          "output_type": "stream",
          "text": [
            "False\n"
          ]
        }
      ],
      "source": [
        "print(p and q)"
      ]
    },
    {
      "cell_type": "code",
      "execution_count": null,
      "metadata": {
        "colab": {
          "base_uri": "https://localhost:8080/"
        },
        "id": "K1Y_LF2LfGNz",
        "outputId": "2a523417-03d2-4743-f30d-61dec94ee2af"
      },
      "outputs": [
        {
          "name": "stdout",
          "output_type": "stream",
          "text": [
            "True\n"
          ]
        }
      ],
      "source": [
        "print(p or p)"
      ]
    },
    {
      "cell_type": "code",
      "execution_count": null,
      "metadata": {
        "colab": {
          "base_uri": "https://localhost:8080/"
        },
        "id": "zJKxspuqfLkj",
        "outputId": "93f78634-04f7-4d57-f21e-f005c4dedbf1"
      },
      "outputs": [
        {
          "name": "stdout",
          "output_type": "stream",
          "text": [
            "True\n"
          ]
        }
      ],
      "source": [
        "print(not q)"
      ]
    },
    {
      "cell_type": "markdown",
      "metadata": {
        "id": "DuBWs1gNfmBP"
      },
      "source": [
        "**STRING OPERATIONS**"
      ]
    },
    {
      "cell_type": "code",
      "execution_count": null,
      "metadata": {
        "colab": {
          "base_uri": "https://localhost:8080/"
        },
        "id": "DTwfzsMSfrVS",
        "outputId": "07086cae-e75d-43a7-f364-ab09a198ddde"
      },
      "outputs": [
        {
          "name": "stdout",
          "output_type": "stream",
          "text": [
            "hello\n",
            "hello\n"
          ]
        }
      ],
      "source": [
        "s='hello'\n",
        "u=\"hello\"\n",
        "print(s)\n",
        "print(u)"
      ]
    },
    {
      "cell_type": "code",
      "execution_count": null,
      "metadata": {
        "colab": {
          "base_uri": "https://localhost:8080/"
        },
        "id": "99I2FyawgB58",
        "outputId": "e1c33997-9e24-427b-ac09-227322a956be"
      },
      "outputs": [
        {
          "name": "stdout",
          "output_type": "stream",
          "text": [
            "python world\n"
          ]
        }
      ],
      "source": [
        "s1=\"python\"\n",
        "s2='world'\n",
        "s3=s1+' '+s2\n",
        "print(s3)"
      ]
    },
    {
      "cell_type": "code",
      "execution_count": null,
      "metadata": {
        "colab": {
          "base_uri": "https://localhost:8080/"
        },
        "id": "FTEzk5yogoL7",
        "outputId": "4941b3a2-bec7-40f7-838a-b83e17c25239"
      },
      "outputs": [
        {
          "name": "stdout",
          "output_type": "stream",
          "text": [
            "python world 1011\n"
          ]
        }
      ],
      "source": [
        "s3='%s %s %d' %(s1,s2,1011)\n",
        "print(s3)"
      ]
    },
    {
      "cell_type": "code",
      "execution_count": null,
      "metadata": {
        "colab": {
          "base_uri": "https://localhost:8080/"
        },
        "id": "FypKWv7DHf88",
        "outputId": "c71d8169-6df7-4048-dd71-7e36dafc4612"
      },
      "outputs": [
        {
          "name": "stdout",
          "output_type": "stream",
          "text": [
            "17\n"
          ]
        }
      ],
      "source": [
        "print(len(s3))"
      ]
    },
    {
      "cell_type": "code",
      "execution_count": null,
      "metadata": {
        "colab": {
          "base_uri": "https://localhost:8080/"
        },
        "id": "dld5_x03Hw3j",
        "outputId": "5a45afca-4a86-40fd-ae5d-b06ce71ed877"
      },
      "outputs": [
        {
          "name": "stdout",
          "output_type": "stream",
          "text": [
            "PYTHON WORLD 1011\n"
          ]
        }
      ],
      "source": [
        "print(s3.upper())"
      ]
    },
    {
      "cell_type": "code",
      "execution_count": null,
      "metadata": {
        "colab": {
          "base_uri": "https://localhost:8080/"
        },
        "id": "wAUmA9HlH6jz",
        "outputId": "2153c462-ad16-46a9-82d7-1a238bd62ef3"
      },
      "outputs": [
        {
          "name": "stdout",
          "output_type": "stream",
          "text": [
            "Python world 1011\n"
          ]
        }
      ],
      "source": [
        "print(s3.capitalize())"
      ]
    },
    {
      "cell_type": "code",
      "execution_count": null,
      "metadata": {
        "colab": {
          "base_uri": "https://localhost:8080/"
        },
        "id": "M1MPoWiwWnXW",
        "outputId": "d74e405e-573b-4058-99ea-a2d623b2c978"
      },
      "outputs": [
        {
          "name": "stdout",
          "output_type": "stream",
          "text": [
            "python world 1011\n"
          ]
        }
      ],
      "source": [
        "print(s3.lower())"
      ]
    },
    {
      "cell_type": "code",
      "execution_count": null,
      "metadata": {
        "colab": {
          "base_uri": "https://localhost:8080/"
        },
        "id": "-MNT3rxCW-YD",
        "outputId": "1ed9f1b5-d2c8-4242-f6e4-7fe88e2146cc"
      },
      "outputs": [
        {
          "name": "stdout",
          "output_type": "stream",
          "text": [
            "['hello', 'world', 'how', 'are', 'you']\n"
          ]
        }
      ],
      "source": [
        "print('hello world how are you'.split(' '))"
      ]
    },
    {
      "cell_type": "code",
      "execution_count": null,
      "metadata": {
        "colab": {
          "base_uri": "https://localhost:8080/"
        },
        "id": "9EOxJQO6YEoM",
        "outputId": "6f3b7ea1-f53e-4248-b48c-3b4bff89cb03"
      },
      "outputs": [
        {
          "name": "stdout",
          "output_type": "stream",
          "text": [
            "beek\n"
          ]
        }
      ],
      "source": [
        "print('book'.replace('o','e'))"
      ]
    },
    {
      "cell_type": "code",
      "execution_count": null,
      "metadata": {
        "colab": {
          "base_uri": "https://localhost:8080/"
        },
        "id": "hsOyjJRnYQWx",
        "outputId": "a84a3bd5-4965-4fdc-8e6c-526d4684bfe5"
      },
      "outputs": [
        {
          "name": "stdout",
          "output_type": "stream",
          "text": [
            "2\n",
            "-1\n"
          ]
        }
      ],
      "source": [
        "word='jewellery'\n",
        "print(word.find('well'))\n",
        "print(word.find('is'))"
      ]
    },
    {
      "cell_type": "markdown",
      "metadata": {
        "id": "VWJyC33mavTD"
      },
      "source": [
        "**CONTROL STRUCTURES**"
      ]
    },
    {
      "cell_type": "markdown",
      "metadata": {
        "id": "1r3zqpD6cNST"
      },
      "source": [
        "IF-ELSE"
      ]
    },
    {
      "cell_type": "code",
      "execution_count": null,
      "metadata": {
        "colab": {
          "base_uri": "https://localhost:8080/"
        },
        "id": "6qXsN2vNa0gU",
        "outputId": "3bc0345c-c279-4a77-b9c4-1c940911f795"
      },
      "outputs": [
        {
          "name": "stdout",
          "output_type": "stream",
          "text": [
            "3 digit\n"
          ]
        }
      ],
      "source": [
        "number= 123\n",
        "if number>99 and number<1000 :\n",
        "     print('3 digit')\n",
        "else:\n",
        "     print('Not 3 digit')"
      ]
    },
    {
      "cell_type": "code",
      "execution_count": null,
      "metadata": {
        "colab": {
          "base_uri": "https://localhost:8080/"
        },
        "id": "oB_hiJSUf61l",
        "outputId": "894961d0-6dbc-4067-edcf-93e4dfa32e02"
      },
      "outputs": [
        {
          "name": "stdout",
          "output_type": "stream",
          "text": [
            "Are you familiar with python Yes\n",
            "You can skip this course:-)\n"
          ]
        }
      ],
      "source": [
        "response=input('Are you familiar with python ')\n",
        "if response.upper()==\"YES\":\n",
        "  print(\"You can skip this course:-)\")\n",
        "elif response.upper() == \"NO\":\n",
        "  print(\"You are at the right place:-)\")\n",
        "else:\n",
        "  print('Sorry wrong input :-(')"
      ]
    },
    {
      "cell_type": "markdown",
      "metadata": {
        "id": "7Ra-V1eWz2qU"
      },
      "source": [
        "FOR LOOP"
      ]
    },
    {
      "cell_type": "code",
      "execution_count": null,
      "metadata": {
        "colab": {
          "base_uri": "https://localhost:8080/"
        },
        "id": "HKS3JeMWz8eQ",
        "outputId": "de934252-65e4-466a-e246-522b4a70f07c"
      },
      "outputs": [
        {
          "name": "stdout",
          "output_type": "stream",
          "text": [
            "0 1 2 3 4 5 6 7 8 9 "
          ]
        }
      ],
      "source": [
        "for x in range(10):\n",
        "  print(x,end=' ')"
      ]
    },
    {
      "cell_type": "code",
      "execution_count": null,
      "metadata": {
        "colab": {
          "base_uri": "https://localhost:8080/"
        },
        "id": "-Ify84sb0LPz",
        "outputId": "8cfd9066-d65d-45d6-df19-f823611ab00f"
      },
      "outputs": [
        {
          "name": "stdout",
          "output_type": "stream",
          "text": [
            "Enter a limit :15\n",
            "Odd sum=64\n"
          ]
        }
      ],
      "source": [
        "limit=int(input('Enter a limit :'))\n",
        "sum=0\n",
        "for i in range(1,limit+1):\n",
        "  if i%2!=0:\n",
        "    sum+=i\n",
        "print(\"Odd sum=\"+str(sum))"
      ]
    },
    {
      "cell_type": "code",
      "execution_count": null,
      "metadata": {
        "colab": {
          "base_uri": "https://localhost:8080/"
        },
        "id": "eT8vz86f4OyR",
        "outputId": "ba6e20d1-d3bb-4ea3-f6ab-a5c6a5d27652"
      },
      "outputs": [
        {
          "name": "stdout",
          "output_type": "stream",
          "text": [
            "[0, 1, 2, 3, 4, 5, 6, 7, 8, 9]\n"
          ]
        }
      ],
      "source": [
        "print(list(range(10)))"
      ]
    },
    {
      "cell_type": "code",
      "execution_count": null,
      "metadata": {
        "colab": {
          "base_uri": "https://localhost:8080/"
        },
        "id": "yZFsjZVp4Vd5",
        "outputId": "a83ec180-8e0b-4604-f0b1-ec1b8cc45ef4"
      },
      "outputs": [
        {
          "name": "stdout",
          "output_type": "stream",
          "text": [
            "[1, 2, 3, 4, 5, 6, 7, 8, 9]\n"
          ]
        }
      ],
      "source": [
        "print(list(range(1,10)))"
      ]
    },
    {
      "cell_type": "code",
      "execution_count": null,
      "metadata": {
        "colab": {
          "base_uri": "https://localhost:8080/"
        },
        "id": "L6frHzH74X1w",
        "outputId": "4643c2e7-8e2f-47b1-850a-15b2fa9efd41"
      },
      "outputs": [
        {
          "name": "stdout",
          "output_type": "stream",
          "text": [
            "[1, 3, 5, 7, 9]\n"
          ]
        }
      ],
      "source": [
        "print(list(range(1,10,2)))"
      ]
    },
    {
      "cell_type": "markdown",
      "metadata": {
        "id": "KPHHExTH4fBC"
      },
      "source": [
        "WHILE LOOP"
      ]
    },
    {
      "cell_type": "code",
      "execution_count": null,
      "metadata": {
        "colab": {
          "base_uri": "https://localhost:8080/"
        },
        "id": "SSTsoTxB4iPB",
        "outputId": "8c537a10-460f-48bd-8c2f-668b4500ec44"
      },
      "outputs": [
        {
          "name": "stdout",
          "output_type": "stream",
          "text": [
            "Enter number :1254\n",
            "12\n"
          ]
        }
      ],
      "source": [
        "number=int(input('Enter number :'))\n",
        "s=0\n",
        "while number>0:\n",
        "  s+=number%10\n",
        "  number=number//10\n",
        "print(s)"
      ]
    },
    {
      "cell_type": "markdown",
      "metadata": {
        "id": "EICpe8kd5so5"
      },
      "source": [
        "NESTED LOOP"
      ]
    },
    {
      "cell_type": "code",
      "execution_count": null,
      "metadata": {
        "colab": {
          "base_uri": "https://localhost:8080/"
        },
        "id": "ixMKUiqm5pf3",
        "outputId": "c684bbe2-f2bd-4637-d93c-73a62a702db7"
      },
      "outputs": [
        {
          "name": "stdout",
          "output_type": "stream",
          "text": [
            "Enter number :400\n",
            "2 3 5 7 11 13 17 19 23 29 31 37 41 43 47 53 59 61 67 71 73 79 83 89 97 101 103 107 109 113 127 131 137 139 149 151 157 163 167 173 179 181 191 193 197 199 211 223 227 229 233 239 241 251 257 263 269 271 277 281 283 293 307 311 313 317 331 337 347 349 353 359 367 373 379 383 389 397 "
          ]
        }
      ],
      "source": [
        "limit=int(input('Enter number :'))\n",
        "for num in range (2,limit+1):\n",
        "  is_divisible=False\n",
        "  k=2\n",
        "  while k<=num//2:\n",
        "    if num % k==0:\n",
        "      is_divisible=True\n",
        "      break;\n",
        "    k+=1\n",
        "  if not is_divisible:\n",
        "    print(num,end=' ')"
      ]
    },
    {
      "cell_type": "markdown",
      "metadata": {
        "id": "bcmpcRQ97QNQ"
      },
      "source": [
        "**CONTAINERS**"
      ]
    },
    {
      "cell_type": "markdown",
      "metadata": {
        "id": "UbY2_Bfu7Yh6"
      },
      "source": [
        "LIST"
      ]
    },
    {
      "cell_type": "code",
      "execution_count": null,
      "metadata": {
        "colab": {
          "base_uri": "https://localhost:8080/"
        },
        "id": "yNF_wC_oZFWe",
        "outputId": "78167db7-1a26-414e-acee-34d7aa06038e"
      },
      "outputs": [
        {
          "name": "stdout",
          "output_type": "stream",
          "text": [
            "['a', 'b', 1, 1.2, True]\n",
            "['a', 'b', 1, 1.2, True, 'new']\n"
          ]
        }
      ],
      "source": [
        "mylist=['a','b',1,1.2,True]\n",
        "print(mylist)\n",
        "mylist.append(\"new\")\n",
        "print(mylist)"
      ]
    },
    {
      "cell_type": "code",
      "execution_count": null,
      "metadata": {
        "colab": {
          "base_uri": "https://localhost:8080/"
        },
        "id": "k537c6TgZo31",
        "outputId": "c87629c3-f676-4723-b900-976b495266de"
      },
      "outputs": [
        {
          "name": "stdout",
          "output_type": "stream",
          "text": [
            "new\n"
          ]
        }
      ],
      "source": [
        "print(mylist.pop())"
      ]
    },
    {
      "cell_type": "code",
      "execution_count": null,
      "metadata": {
        "colab": {
          "base_uri": "https://localhost:8080/"
        },
        "id": "bK6xodGaZvym",
        "outputId": "c25fa5eb-721a-465b-b8c1-4f45ec0a80d2"
      },
      "outputs": [
        {
          "name": "stdout",
          "output_type": "stream",
          "text": [
            "['a', 'b', 'new', 1, 1.2, True]\n"
          ]
        }
      ],
      "source": [
        "mylist.insert(2,'new')\n",
        "print(mylist)"
      ]
    },
    {
      "cell_type": "code",
      "execution_count": null,
      "metadata": {
        "colab": {
          "base_uri": "https://localhost:8080/"
        },
        "id": "8ywRnhwOZ77c",
        "outputId": "d6977584-5e2b-41b0-bc5c-4c5a0dbc1500"
      },
      "outputs": [
        {
          "name": "stdout",
          "output_type": "stream",
          "text": [
            "['a', 'b', 1, 1.2, True]\n"
          ]
        }
      ],
      "source": [
        "mylist.remove('new')\n",
        "print(mylist)"
      ]
    },
    {
      "cell_type": "code",
      "execution_count": null,
      "metadata": {
        "colab": {
          "base_uri": "https://localhost:8080/"
        },
        "id": "iH67ezloa5GD",
        "outputId": "c48867fe-e98e-4d5c-cfee-ba025d90aee3"
      },
      "outputs": [
        {
          "name": "stdout",
          "output_type": "stream",
          "text": [
            "[1, 2, 3]\n",
            "['a', 'b', 1, 1.2, True, [1, 2, 3]]\n"
          ]
        }
      ],
      "source": [
        "b=[1,2,3]\n",
        "print(b)\n",
        "mylist.append(b)\n",
        "print(mylist)"
      ]
    },
    {
      "cell_type": "code",
      "execution_count": null,
      "metadata": {
        "colab": {
          "base_uri": "https://localhost:8080/"
        },
        "id": "YtbsaKLsbMYS",
        "outputId": "18c361bc-cc40-4f14-8271-13c7398cb84a"
      },
      "outputs": [
        {
          "name": "stdout",
          "output_type": "stream",
          "text": [
            "['a', 'b', 1, 1.2, True]\n"
          ]
        }
      ],
      "source": [
        "mylist.remove(b)\n",
        "print(mylist)"
      ]
    },
    {
      "cell_type": "code",
      "execution_count": null,
      "metadata": {
        "colab": {
          "base_uri": "https://localhost:8080/"
        },
        "id": "O3zA__bvbjrC",
        "outputId": "6febd90e-6bf8-4816-89de-8155565287f3"
      },
      "outputs": [
        {
          "name": "stdout",
          "output_type": "stream",
          "text": [
            "['a', 'b', 1, 1.2, True, 1, 2, 3]\n"
          ]
        }
      ],
      "source": [
        "mylist.extend(b)\n",
        "print(mylist)"
      ]
    },
    {
      "cell_type": "code",
      "execution_count": null,
      "metadata": {
        "colab": {
          "base_uri": "https://localhost:8080/"
        },
        "id": "iR8LCbcCbpyq",
        "outputId": "b11aaab0-eec5-4a35-8230-065ede7b2957"
      },
      "outputs": [
        {
          "name": "stdout",
          "output_type": "stream",
          "text": [
            "[1, 2, 3, 4, 5]\n"
          ]
        }
      ],
      "source": [
        "a=[2,3,1,4,5]\n",
        "a.sort()\n",
        "print(a)"
      ]
    },
    {
      "cell_type": "code",
      "execution_count": null,
      "metadata": {
        "colab": {
          "base_uri": "https://localhost:8080/"
        },
        "id": "tSQr3vT6bsia",
        "outputId": "fd2a5aa9-266c-42fd-9fbf-09b092cee022"
      },
      "outputs": [
        {
          "name": "stdout",
          "output_type": "stream",
          "text": [
            "['h', 'e', 'l', 'l', 'o']\n"
          ]
        }
      ],
      "source": [
        "print(list('hello'))"
      ]
    },
    {
      "cell_type": "markdown",
      "metadata": {
        "id": "qZ1h3SLY8B5J"
      },
      "source": [
        "LIST SLICING"
      ]
    },
    {
      "cell_type": "code",
      "execution_count": null,
      "metadata": {
        "colab": {
          "base_uri": "https://localhost:8080/"
        },
        "id": "hYzozunqb7Nr",
        "outputId": "21c692e5-123d-4ddc-df5c-718f9b675980"
      },
      "outputs": [
        {
          "name": "stdout",
          "output_type": "stream",
          "text": [
            "1 10\n"
          ]
        }
      ],
      "source": [
        "numbers=[0,1,2,3,4,5,6,7,8,9,10]\n",
        "print(numbers[1],numbers[-1])"
      ]
    },
    {
      "cell_type": "code",
      "execution_count": null,
      "metadata": {
        "colab": {
          "base_uri": "https://localhost:8080/"
        },
        "id": "6duAmPlpc0IC",
        "outputId": "6596054d-ad93-4a2a-d9ce-eedac1cc1e47"
      },
      "outputs": [
        {
          "name": "stdout",
          "output_type": "stream",
          "text": [
            "[5, 6, 7, 8, 9, 10]\n"
          ]
        }
      ],
      "source": [
        "sliced=numbers[5:11]\n",
        "print(sliced)"
      ]
    },
    {
      "cell_type": "code",
      "execution_count": null,
      "metadata": {
        "colab": {
          "base_uri": "https://localhost:8080/"
        },
        "id": "rRxFra6BdbTQ",
        "outputId": "12ff2104-970a-4dc0-bb9a-2e901fe76753"
      },
      "outputs": [
        {
          "name": "stdout",
          "output_type": "stream",
          "text": [
            "[5, 6, 7, 8, 9, 10]\n"
          ]
        }
      ],
      "source": [
        "slice1=numbers[5:]\n",
        "print(slice1)"
      ]
    },
    {
      "cell_type": "code",
      "execution_count": null,
      "metadata": {
        "colab": {
          "base_uri": "https://localhost:8080/"
        },
        "id": "UqfSxcSIvtHY",
        "outputId": "4253f97c-fe96-49df-f51b-3af4f004f360"
      },
      "outputs": [
        {
          "name": "stdout",
          "output_type": "stream",
          "text": [
            "[0, 1, 2, 3, 4, 5, 6]\n"
          ]
        }
      ],
      "source": [
        "Sliced=numbers[:7]\n",
        "print(Sliced)"
      ]
    },
    {
      "cell_type": "code",
      "execution_count": null,
      "metadata": {
        "colab": {
          "base_uri": "https://localhost:8080/"
        },
        "id": "JZzZPj6Ddt5v",
        "outputId": "2610c2a6-4924-4f99-d1fb-fd54ae98cda3"
      },
      "outputs": [
        {
          "name": "stdout",
          "output_type": "stream",
          "text": [
            "[9, 10]\n"
          ]
        }
      ],
      "source": [
        "slice2=numbers[-2:]\n",
        "print(slice2)"
      ]
    },
    {
      "cell_type": "markdown",
      "metadata": {
        "id": "22ugTBsC8OwK"
      },
      "source": [
        "LIST COMPREHENSION"
      ]
    },
    {
      "cell_type": "code",
      "execution_count": null,
      "metadata": {
        "colab": {
          "base_uri": "https://localhost:8080/"
        },
        "id": "3xNdBkL1eJEW",
        "outputId": "68aba650-ec02-479c-f485-4495fcf3b9ad"
      },
      "outputs": [
        {
          "name": "stdout",
          "output_type": "stream",
          "text": [
            "[1, 2, 3, 4, 5, 6, 7]\n"
          ]
        }
      ],
      "source": [
        "numbers=list(range(1,8))\n",
        "print(numbers)"
      ]
    },
    {
      "cell_type": "code",
      "execution_count": null,
      "metadata": {
        "colab": {
          "base_uri": "https://localhost:8080/"
        },
        "id": "C1XDqU3deYjJ",
        "outputId": "5b85e5fd-7f49-43c0-8b4f-6e9a14554cc5"
      },
      "outputs": [
        {
          "name": "stdout",
          "output_type": "stream",
          "text": [
            "[1, 4, 9, 16, 25, 36, 49]\n"
          ]
        }
      ],
      "source": [
        "square=[]\n",
        "for i in numbers:\n",
        "   square.append(pow(i,2))\n",
        "print(square)"
      ]
    },
    {
      "cell_type": "code",
      "execution_count": null,
      "metadata": {
        "colab": {
          "base_uri": "https://localhost:8080/"
        },
        "id": "zm6wQj1S9kHJ",
        "outputId": "0a92c042-10f3-412a-f74a-429ae1d7d1cf"
      },
      "outputs": [
        {
          "name": "stdout",
          "output_type": "stream",
          "text": [
            "[1, 4, 9, 16, 25, 36, 49]\n"
          ]
        }
      ],
      "source": [
        "square=[x**2 for x in numbers]\n",
        "print(square)"
      ]
    },
    {
      "cell_type": "code",
      "execution_count": null,
      "metadata": {
        "colab": {
          "base_uri": "https://localhost:8080/"
        },
        "id": "WkBVxeE0fvON",
        "outputId": "9f286b0e-6591-4c59-b398-b6939bcf5b70"
      },
      "outputs": [
        {
          "name": "stdout",
          "output_type": "stream",
          "text": [
            "[1, 9, 25, 49]\n"
          ]
        }
      ],
      "source": [
        "odd_square=[x**2 for x in numbers if x%2!=0]\n",
        "print(odd_square)"
      ]
    },
    {
      "cell_type": "code",
      "execution_count": null,
      "metadata": {
        "colab": {
          "base_uri": "https://localhost:8080/"
        },
        "id": "Fsjqhx_VgKgL",
        "outputId": "9e63eba9-8319-4d3c-fab1-8626bf79aab3"
      },
      "outputs": [
        {
          "name": "stdout",
          "output_type": "stream",
          "text": [
            "[(4, 6), (4, 8), (4, 9), (6, 4), (6, 8), (6, 9), (8, 4), (8, 6), (8, 9), (9, 4), (9, 6), (9, 8)]\n"
          ]
        }
      ],
      "source": [
        "A=[4,6,8,9]\n",
        "AxA=[(a,b) for a in A for b in A if a!=b ]\n",
        "print(AxA)"
      ]
    },
    {
      "cell_type": "markdown",
      "metadata": {
        "id": "SckHuOjF-oh5"
      },
      "source": [
        "DICTIONARY"
      ]
    },
    {
      "cell_type": "code",
      "execution_count": null,
      "metadata": {
        "colab": {
          "base_uri": "https://localhost:8080/"
        },
        "id": "EtLo0M9Nh4hy",
        "outputId": "d47bfb06-775f-4981-890e-f04f9d67522d"
      },
      "outputs": [
        {
          "name": "stdout",
          "output_type": "stream",
          "text": [
            "Manu\n"
          ]
        }
      ],
      "source": [
        "person={'name':'Manu','age':28}\n",
        "print(person['name'])"
      ]
    },
    {
      "cell_type": "code",
      "execution_count": null,
      "metadata": {
        "colab": {
          "base_uri": "https://localhost:8080/"
        },
        "id": "WJG1pLdN-suO",
        "outputId": "3c2b9546-cf0c-4b31-9bef-f2b6bf6df38d"
      },
      "outputs": [
        {
          "name": "stdout",
          "output_type": "stream",
          "text": [
            "True\n"
          ]
        }
      ],
      "source": [
        "print('name' in person)"
      ]
    },
    {
      "cell_type": "code",
      "execution_count": null,
      "metadata": {
        "colab": {
          "base_uri": "https://localhost:8080/"
        },
        "id": "CwzzJw4Ujxiv",
        "outputId": "11e46166-fef5-4e10-9928-122ff0e95554"
      },
      "outputs": [
        {
          "name": "stdout",
          "output_type": "stream",
          "text": [
            "False\n"
          ]
        }
      ],
      "source": [
        "print('sex' in person)"
      ]
    },
    {
      "cell_type": "code",
      "execution_count": null,
      "metadata": {
        "colab": {
          "base_uri": "https://localhost:8080/"
        },
        "id": "6TILYts6j_29",
        "outputId": "662e4733-740d-4e66-fc42-6525197c9ae0"
      },
      "outputs": [
        {
          "name": "stdout",
          "output_type": "stream",
          "text": [
            "{'name': 'Manu', 'age': 28, 'sex': 'male'}\n"
          ]
        }
      ],
      "source": [
        "person['sex']='male'\n",
        "print(person)"
      ]
    },
    {
      "cell_type": "code",
      "execution_count": null,
      "metadata": {
        "colab": {
          "base_uri": "https://localhost:8080/"
        },
        "id": "HcE4ZKjgkKOl",
        "outputId": "884e9d60-3bc6-41da-f2f0-e8bfbbdd3b0d"
      },
      "outputs": [
        {
          "name": "stdout",
          "output_type": "stream",
          "text": [
            "name Manu\n",
            "age 28\n",
            "sex male\n"
          ]
        }
      ],
      "source": [
        "for item in person:\n",
        "   print(item,person[item])"
      ]
    },
    {
      "cell_type": "code",
      "execution_count": null,
      "metadata": {
        "colab": {
          "base_uri": "https://localhost:8080/"
        },
        "id": "DYCayf44kXUN",
        "outputId": "61621612-345c-4d6a-bc38-b3de1652020a"
      },
      "outputs": [
        {
          "name": "stdout",
          "output_type": "stream",
          "text": [
            "Name \t:\t Manu\n",
            "Age \t:\t 28\n",
            "Sex \t:\t male\n",
            "dict_keys(['name', 'age', 'sex'])\n"
          ]
        }
      ],
      "source": [
        "for(key,value)in person.items():\n",
        "   print(key.capitalize(),'\\t:\\t',value)\n",
        "print(person.keys())"
      ]
    },
    {
      "cell_type": "markdown",
      "metadata": {
        "id": "d1lJGf7Gknfs"
      },
      "source": [
        "**FUNCTIONS**"
      ]
    },
    {
      "cell_type": "markdown",
      "metadata": {
        "id": "oBj6kqdPlStc"
      },
      "source": [
        "FINDING THE SQUARE OF A NUMBER"
      ]
    },
    {
      "cell_type": "code",
      "execution_count": null,
      "metadata": {
        "colab": {
          "base_uri": "https://localhost:8080/"
        },
        "id": "EZxDoUlWlWX7",
        "outputId": "47057330-789e-42fb-ffc4-868dd95d363a"
      },
      "outputs": [
        {
          "name": "stdout",
          "output_type": "stream",
          "text": [
            "25\n"
          ]
        }
      ],
      "source": [
        "def square(number):\n",
        "  return pow(number,2)\n",
        "s=square(5)\n",
        "print(s)"
      ]
    },
    {
      "cell_type": "markdown",
      "metadata": {
        "id": "gEpv07KiFwNW"
      },
      "source": [
        "prime in given range"
      ]
    },
    {
      "cell_type": "code",
      "execution_count": null,
      "metadata": {
        "colab": {
          "base_uri": "https://localhost:8080/"
        },
        "id": "HF1eQThwEgVP",
        "outputId": "0feffbe9-6e62-4c4b-e7e0-3fd8f47d3bd9"
      },
      "outputs": [
        {
          "name": "stdout",
          "output_type": "stream",
          "text": [
            "Enter the number 10\n",
            "False\n"
          ]
        }
      ],
      "source": [
        "def isPrime(number):\n",
        "\n",
        "    for factor in range(2, (number//2)+1):\n",
        "        if number%factor == 0:\n",
        "\n",
        "              return False\n",
        "\n",
        "    return True\n",
        "\n",
        "number = int(input('Enter the number '))\n",
        "print(isPrime(number))"
      ]
    },
    {
      "cell_type": "code",
      "execution_count": null,
      "metadata": {
        "colab": {
          "base_uri": "https://localhost:8080/"
        },
        "id": "v-zbQEOFnO6i",
        "outputId": "00e3c188-f85e-43e1-b258-3354e07d7ca7"
      },
      "outputs": [
        {
          "name": "stdout",
          "output_type": "stream",
          "text": [
            "5 7 11 13 17 19 23 29 31 37 41 43 47 "
          ]
        }
      ],
      "source": [
        "def printPrimes(llimit, ulimit):\n",
        "  for num in range(llimit,ulimit+1):\n",
        "    if isPrime(num)==True:\n",
        "      print(num,end=' ')\n",
        "printPrimes(5,50)\n"
      ]
    },
    {
      "cell_type": "markdown",
      "metadata": {
        "id": "aW5FmqzLF1B4"
      },
      "source": [
        "swap 2 numbers"
      ]
    },
    {
      "cell_type": "code",
      "execution_count": null,
      "metadata": {
        "colab": {
          "base_uri": "https://localhost:8080/"
        },
        "id": "bccqzW_KnXOQ",
        "outputId": "cc5c3e27-1165-43d3-93ef-be5b90aa4e30"
      },
      "outputs": [
        {
          "name": "stdout",
          "output_type": "stream",
          "text": [
            "7 5\n"
          ]
        }
      ],
      "source": [
        "def swap(x,y):\n",
        "  t=x\n",
        "  x=y\n",
        "  y=t\n",
        "  return x,y\n",
        "a=5\n",
        "b=7\n",
        "a,b=swap(a,b)\n",
        "print(a,b)"
      ]
    }
  ],
  "metadata": {
    "colab": {
      "collapsed_sections": [],
      "name": "EXPERIMENT1_a.ipynb",
      "provenance": [],
      "include_colab_link": true
    },
    "kernelspec": {
      "display_name": "Python 3",
      "language": "python",
      "name": "python3"
    },
    "language_info": {
      "codemirror_mode": {
        "name": "ipython",
        "version": 3
      },
      "file_extension": ".py",
      "mimetype": "text/x-python",
      "name": "python",
      "nbconvert_exporter": "python",
      "pygments_lexer": "ipython3",
      "version": "3.8.8"
    }
  },
  "nbformat": 4,
  "nbformat_minor": 0
}