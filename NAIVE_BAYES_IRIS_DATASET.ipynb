{
  "cells": [
    {
      "cell_type": "markdown",
      "metadata": {
        "id": "view-in-github",
        "colab_type": "text"
      },
      "source": [
        "<a href=\"https://colab.research.google.com/github/sreelekshmi1199/MLprograms/blob/main/NAIVE_BAYES_IRIS_DATASET.ipynb\" target=\"_parent\"><img src=\"https://colab.research.google.com/assets/colab-badge.svg\" alt=\"Open In Colab\"/></a>"
      ]
    },
    {
      "cell_type": "markdown",
      "id": "dd61de6b",
      "metadata": {
        "id": "dd61de6b"
      },
      "source": [
        "h1><center>NAIVE BAYES CLASSIFICATION ON IRIS DATASET</center></h1> \n",
        "\n",
        "Date___________________\n",
        "\n",
        "AIM:To implement Naive Bayes classification using any standard dataset available in the public domain and find the accuracy of the algorithm.\n",
        "\n",
        "Algorithm:\n",
        "Step 1:start\n",
        "Step 2: Importing the standard libraries.\n",
        "Step 3:Load the iris dataset-iris.csv\n",
        "The iris dataset contains the following data\n",
        "    50 samples of 3 different species of iris (150 samples total)\n",
        "    Measurements: sepal length, sepal width, petal length, petal width\n",
        "    The format for the data: (sepal length, sepal width, petal length, petal width)\n",
        "Step 4:Define x and y and label the fields\n",
        "Step 5:Split the dtatset into Training and testing\n",
        "Step 6:preprocess the dataset using StandardScaler\n",
        "    StandardScaler removes the mean and scales each feature/variable to unit variance\n",
        "Step 7:Train the data using GuassianNB model\n",
        "Step 8:Test the data using Test set\n",
        "Step 9:Create the confusion matrix and Find the accuracy\n",
        "Step 10:Stop\n"
      ]
    },
    {
      "cell_type": "code",
      "execution_count": null,
      "id": "81e08b65",
      "metadata": {
        "id": "81e08b65"
      },
      "outputs": [],
      "source": [
        "import pandas as pd\n",
        "from sklearn.preprocessing import LabelEncoder\n",
        "from sklearn.preprocessing import StandardScaler\n",
        "from sklearn.metrics import confusion_matrix,accuracy_score\n",
        "from sklearn.model_selection import train_test_split\n",
        "from sklearn.naive_bayes import GaussianNB"
      ]
    },
    {
      "cell_type": "code",
      "execution_count": null,
      "id": "30cf8c13",
      "metadata": {
        "id": "30cf8c13"
      },
      "outputs": [],
      "source": [
        "dataset = pd.read_csv('iris.csv')\n",
        "print(dataset.describe())\n",
        "print(dataset.head())"
      ]
    },
    {
      "cell_type": "code",
      "execution_count": null,
      "id": "01c839f7",
      "metadata": {
        "id": "01c839f7"
      },
      "outputs": [],
      "source": [
        "X = dataset.iloc[:, [1, 2, 3]].values\n",
        "y = dataset.iloc[:, -1].values\n",
        "le = LabelEncoder()\n",
        "X[:,0] = le.fit_transform(X[:,0])"
      ]
    },
    {
      "cell_type": "code",
      "execution_count": null,
      "id": "b0ea1b78",
      "metadata": {
        "id": "b0ea1b78",
        "outputId": "06f9f00d-bcfd-4b3a-cce6-1c5fad9cc9e7"
      },
      "outputs": [
        {
          "name": "stdout",
          "output_type": "stream",
          "text": [
            "               Id  SepalLengthCm  SepalWidthCm  PetalLengthCm  PetalWidthCm\n",
            "count  150.000000     150.000000    150.000000     150.000000    150.000000\n",
            "mean    75.500000       5.843333      3.054000       3.758667      1.198667\n",
            "std     43.445368       0.828066      0.433594       1.764420      0.763161\n",
            "min      1.000000       4.300000      2.000000       1.000000      0.100000\n",
            "25%     38.250000       5.100000      2.800000       1.600000      0.300000\n",
            "50%     75.500000       5.800000      3.000000       4.350000      1.300000\n",
            "75%    112.750000       6.400000      3.300000       5.100000      1.800000\n",
            "max    150.000000       7.900000      4.400000       6.900000      2.500000\n",
            "   Id  SepalLengthCm  SepalWidthCm  PetalLengthCm  PetalWidthCm      Species\n",
            "0   1            5.1           3.5            1.4           0.2  Iris-setosa\n",
            "1   2            4.9           3.0            1.4           0.2  Iris-setosa\n",
            "2   3            4.7           3.2            1.3           0.2  Iris-setosa\n",
            "3   4            4.6           3.1            1.5           0.2  Iris-setosa\n",
            "4   5            5.0           3.6            1.4           0.2  Iris-setosa\n"
          ]
        }
      ],
      "source": [
        "X_train, X_test, y_train, y_test = train_test_split(X, y, test_size = 0.20, random_state =0)"
      ]
    },
    {
      "cell_type": "code",
      "execution_count": null,
      "id": "065135a6",
      "metadata": {
        "id": "065135a6"
      },
      "outputs": [],
      "source": [
        "\n",
        "sc = StandardScaler()\n",
        "X_train = sc.fit_transform(X_train)\n",
        "X_test = sc.transform(X_test)\n",
        "from sklearn.naive_bayes import GaussianNB\n",
        "classifier = GaussianNB()\n"
      ]
    },
    {
      "cell_type": "code",
      "execution_count": null,
      "id": "429126a1",
      "metadata": {
        "id": "429126a1"
      },
      "outputs": [],
      "source": [
        "classifier.fit(X_train, y_train)\n",
        "y_pred = classifier.predict(X_test)\n",
        "\n"
      ]
    },
    {
      "cell_type": "code",
      "execution_count": null,
      "id": "c6a25c66",
      "metadata": {
        "id": "c6a25c66",
        "outputId": "32885ffe-ea2f-4507-93a6-31a45f548969"
      },
      "outputs": [
        {
          "name": "stdout",
          "output_type": "stream",
          "text": [
            "[[11  0  0]\n",
            " [ 0 11  2]\n",
            " [ 0  2  4]]\n",
            "0.8666666666666667\n"
          ]
        }
      ],
      "source": [
        "\n",
        "\n",
        "cm = confusion_matrix(y_test, y_pred)\n",
        "ac = accuracy_score(y_test,y_pred)\n",
        "print(cm)\n",
        "print(ac)\n"
      ]
    }
  ],
  "metadata": {
    "kernelspec": {
      "display_name": "Python 3",
      "language": "python",
      "name": "python3"
    },
    "language_info": {
      "codemirror_mode": {
        "name": "ipython",
        "version": 3
      },
      "file_extension": ".py",
      "mimetype": "text/x-python",
      "name": "python",
      "nbconvert_exporter": "python",
      "pygments_lexer": "ipython3",
      "version": "3.8.8"
    },
    "colab": {
      "name": "NAIVE BAYES IRIS DATASET.ipynb",
      "provenance": [],
      "include_colab_link": true
    }
  },
  "nbformat": 4,
  "nbformat_minor": 5
}