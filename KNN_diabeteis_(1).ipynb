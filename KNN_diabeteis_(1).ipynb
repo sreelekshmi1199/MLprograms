{
  "cells": [
    {
      "cell_type": "markdown",
      "metadata": {
        "id": "view-in-github",
        "colab_type": "text"
      },
      "source": [
        "<a href=\"https://colab.research.google.com/github/sreelekshmi1199/MLprograms/blob/main/KNN_diabeteis_(1).ipynb\" target=\"_parent\"><img src=\"https://colab.research.google.com/assets/colab-badge.svg\" alt=\"Open In Colab\"/></a>"
      ]
    },
    {
      "cell_type": "markdown",
      "metadata": {
        "id": "dYoWj34nR0KB"
      },
      "source": [
        "<h1><center>KNN Classification(CO2)</center></h1> \n",
        "\n",
        "\n",
        "Date___________________\n",
        "\n",
        "AIM:To implement k-NN classification using any standard dataset available in the public domain and find the accuracy of the algorithm.\n",
        "\n",
        "Algorithm:\n",
        "Step-1: Load the dataset- diabetes.csv\n",
        "\n",
        "The dataset used for study is Diabetes Dataset.This dataset is originally from the National Institute of Diabetes and Digestive and Kidney Diseases. The objective is to predict based on diagnostic measurements whether a patient has diabetes.Several constraints were placed on the selection of these instances from a larger database. In particular, all patients here are females at least 21 years old of Pima Indian heritage.\n",
        "\n",
        "Step 2:Pre process the dataset by replaceing zeros suitable mean values .\n",
        "\n",
        "step 3:Perform the training and testing dataset splitting\n",
        "\n",
        "Step 4: Determine the number of neighbours for the traning dataset.\n",
        "\n",
        "Step-5: Calculate the Euclidean distance of K number of neighbors\n",
        "\n",
        "Step-6: Take the K nearest neighbors as per the calculated Euclidean distance.\n",
        "\n",
        "Step-7: Among these k neighbors, count the number of the data points in each category.\n",
        "\n",
        "Step-8: Assign the new data points to that category for which the number of the neighbor is maximum.\n",
        "\n",
        "Step-9: Calculate the model performance by creating the confusion matrix using the test data and the predicted output\n"
      ]
    },
    {
      "cell_type": "code",
      "execution_count": null,
      "metadata": {
        "id": "mWbS2GtBI5-a"
      },
      "outputs": [],
      "source": [
        "import pandas as pd\n",
        "import numpy as np\n",
        "from sklearn.model_selection import train_test_split\n",
        "from sklearn.preprocessing import StandardScaler\n",
        "from sklearn.neighbors import KNeighborsClassifier\n",
        "from sklearn.metrics import confusion_matrix\n",
        "from sklearn.metrics import f1_score\n",
        "from sklearn.metrics import accuracy_score"
      ]
    },
    {
      "cell_type": "code",
      "execution_count": null,
      "metadata": {
        "colab": {
          "base_uri": "https://localhost:8080/"
        },
        "id": "mqLo2faHJFTc",
        "outputId": "f187f9b7-fffd-4454-cf3f-37281ee5bf73"
      },
      "outputs": [
        {
          "name": "stdout",
          "output_type": "stream",
          "text": [
            "768\n",
            "     Pregnancies  Glucose  BloodPressure  SkinThickness  Insulin   BMI  \\\n",
            "0              6      148             72             35        0  33.6   \n",
            "1              1       85             66             29        0  26.6   \n",
            "2              8      183             64              0        0  23.3   \n",
            "3              1       89             66             23       94  28.1   \n",
            "4              0      137             40             35      168  43.1   \n",
            "..           ...      ...            ...            ...      ...   ...   \n",
            "763           10      101             76             48      180  32.9   \n",
            "764            2      122             70             27        0  36.8   \n",
            "765            5      121             72             23      112  26.2   \n",
            "766            1      126             60              0        0  30.1   \n",
            "767            1       93             70             31        0  30.4   \n",
            "\n",
            "     DiabetesPedigreeFunction  Age  Outcome  \n",
            "0                       0.627   50        1  \n",
            "1                       0.351   31        0  \n",
            "2                       0.672   32        1  \n",
            "3                       0.167   21        0  \n",
            "4                       2.288   33        1  \n",
            "..                        ...  ...      ...  \n",
            "763                     0.171   63        0  \n",
            "764                     0.340   27        0  \n",
            "765                     0.245   30        0  \n",
            "766                     0.349   47        1  \n",
            "767                     0.315   23        0  \n",
            "\n",
            "[768 rows x 9 columns]\n"
          ]
        }
      ],
      "source": [
        "#Loading the dataset\n",
        "dataset = pd.read_csv('diabetes.csv')\n",
        "print(len(dataset))\n",
        "print(dataset)"
      ]
    },
    {
      "cell_type": "code",
      "execution_count": null,
      "metadata": {
        "colab": {
          "base_uri": "https://localhost:8080/"
        },
        "id": "jCkNUb6KJ233",
        "outputId": "f4a2bfdb-65d9-4797-a743-00667e4d63cc"
      },
      "outputs": [
        {
          "name": "stdout",
          "output_type": "stream",
          "text": [
            "0      155.0\n",
            "1      155.0\n",
            "2      155.0\n",
            "3       94.0\n",
            "4      168.0\n",
            "       ...  \n",
            "763    180.0\n",
            "764    155.0\n",
            "765    112.0\n",
            "766    155.0\n",
            "767    155.0\n",
            "Name: Insulin, Length: 768, dtype: float64\n"
          ]
        }
      ],
      "source": [
        "#Replace zeroes\n",
        "zero_not_accepted = ['Glucose', 'BloodPressure', 'SkinThickness', 'BMI', 'Insulin']\n",
        "for column in zero_not_accepted:\n",
        "    dataset[column] = dataset[column].replace(0, np.NaN)#pandas function to replace column of zeros with numpy NAN(NO DATA)\n",
        "    mean = int(dataset[column].mean(skipna=True))#Calculate mean of dataset \n",
        "    dataset[column] = dataset[column].replace(np.NaN, mean)#replace mean with Mean value\n",
        "print(dataset['Insulin'])"
      ]
    },
    {
      "cell_type": "code",
      "execution_count": null,
      "metadata": {
        "colab": {
          "base_uri": "https://localhost:8080/"
        },
        "id": "eJ3Suwm0Kdb0",
        "outputId": "72df9c1d-cbea-487e-f98b-7f93f86d12b3"
      },
      "outputs": [
        {
          "name": "stdout",
          "output_type": "stream",
          "text": [
            "614\n",
            "614\n",
            "154\n",
            "154\n"
          ]
        }
      ],
      "source": [
        "# split dataset\n",
        "X = dataset.iloc[:, 0:8]\n",
        "y = dataset.iloc[:, 8]\n",
        "X_train, X_test, y_train, y_test = train_test_split(X, y,random_state=0 ,test_size=0.2)\n",
        "print(len(X_train))\n",
        "print(len(y_train))\n",
        "print(len(X_test))\n",
        "print(len(y_test))"
      ]
    },
    {
      "cell_type": "code",
      "execution_count": null,
      "metadata": {
        "id": "evrKoKXYMxxr"
      },
      "outputs": [],
      "source": [
        "#Feature scaling\n",
        "sc_X = StandardScaler()\n",
        "X_train = sc_X.fit_transform(X_train)\n",
        "X_test = sc_X.transform(X_test)\n"
      ]
    },
    {
      "cell_type": "code",
      "execution_count": null,
      "metadata": {
        "colab": {
          "base_uri": "https://localhost:8080/"
        },
        "id": "OsJipUoaM3-z",
        "outputId": "70fca843-d7ee-4945-e5fb-816acf7eaa32"
      },
      "outputs": [
        {
          "data": {
            "text/plain": [
              "12.409673645990857"
            ]
          },
          "execution_count": 15,
          "metadata": {},
          "output_type": "execute_result"
        }
      ],
      "source": [
        "#finding K value\n",
        "import math\n",
        "math.sqrt(len(y_test))"
      ]
    },
    {
      "cell_type": "code",
      "execution_count": null,
      "metadata": {
        "id": "TcszZix0M8Z6"
      },
      "outputs": [],
      "source": [
        "# Define the model: Init K-NN\n",
        "classifier = KNeighborsClassifier(n_neighbors=11, p=2,metric='euclidean')"
      ]
    },
    {
      "cell_type": "code",
      "execution_count": null,
      "metadata": {
        "colab": {
          "base_uri": "https://localhost:8080/"
        },
        "id": "YqsWYWAfNBCi",
        "outputId": "e2655821-a8e6-4f0d-f590-c31205b1f007"
      },
      "outputs": [
        {
          "data": {
            "text/plain": [
              "KNeighborsClassifier(metric='euclidean', n_neighbors=11)"
            ]
          },
          "execution_count": 17,
          "metadata": {},
          "output_type": "execute_result"
        }
      ],
      "source": [
        "# Fit Model\n",
        "classifier.fit(X_train, y_train)"
      ]
    },
    {
      "cell_type": "code",
      "execution_count": null,
      "metadata": {
        "colab": {
          "base_uri": "https://localhost:8080/"
        },
        "id": "IQht9ysANMMk",
        "outputId": "643b86a6-480f-4919-dc7d-121c4c0fee79"
      },
      "outputs": [
        {
          "name": "stdout",
          "output_type": "stream",
          "text": [
            "0.8181818181818182\n"
          ]
        }
      ],
      "source": [
        "print(accuracy_score(y_test,y_pred))"
      ]
    },
    {
      "cell_type": "code",
      "execution_count": null,
      "metadata": {
        "id": "z_MnpIGqR0KJ",
        "outputId": "deca044d-0952-4474-ee4d-6fd6a9df9f03"
      },
      "outputs": [
        {
          "name": "stdout",
          "output_type": "stream",
          "text": [
            "[[94 13]\n",
            " [15 32]]\n",
            "              precision    recall  f1-score   support\n",
            "\n",
            "           0       0.86      0.88      0.87       107\n",
            "           1       0.71      0.68      0.70        47\n",
            "\n",
            "    accuracy                           0.82       154\n",
            "   macro avg       0.79      0.78      0.78       154\n",
            "weighted avg       0.82      0.82      0.82       154\n",
            "\n"
          ]
        }
      ],
      "source": [
        "from sklearn.metrics import classification_report, confusion_matrix\n",
        "print(confusion_matrix(y_test, y_pred))\n",
        "print(classification_report(y_test, y_pred))\n"
      ]
    },
    {
      "cell_type": "markdown",
      "metadata": {
        "id": "W7RFMIH7R0KJ"
      },
      "source": [
        "Result:\n",
        "k-NN classification model on diabetes dataset is builded  and the accuracy of the algorithm is determined."
      ]
    },
    {
      "cell_type": "code",
      "execution_count": null,
      "metadata": {
        "id": "R92WdZxpR0KJ"
      },
      "outputs": [],
      "source": [
        ""
      ]
    }
  ],
  "metadata": {
    "colab": {
      "collapsed_sections": [],
      "name": "KNN_diabeteis (1).ipynb",
      "provenance": [],
      "include_colab_link": true
    },
    "kernelspec": {
      "display_name": "Python 3",
      "language": "python",
      "name": "python3"
    },
    "language_info": {
      "codemirror_mode": {
        "name": "ipython",
        "version": 3
      },
      "file_extension": ".py",
      "mimetype": "text/x-python",
      "name": "python",
      "nbconvert_exporter": "python",
      "pygments_lexer": "ipython3",
      "version": "3.8.8"
    }
  },
  "nbformat": 4,
  "nbformat_minor": 0
}