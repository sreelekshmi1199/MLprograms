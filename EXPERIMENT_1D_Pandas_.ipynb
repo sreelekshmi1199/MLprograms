{
  "cells": [
    {
      "cell_type": "markdown",
      "metadata": {
        "id": "view-in-github",
        "colab_type": "text"
      },
      "source": [
        "<a href=\"https://colab.research.google.com/github/sreelekshmi1199/MLprograms/blob/main/EXPERIMENT_1D_Pandas_.ipynb\" target=\"_parent\"><img src=\"https://colab.research.google.com/assets/colab-badge.svg\" alt=\"Open In Colab\"/></a>"
      ]
    },
    {
      "cell_type": "markdown",
      "metadata": {
        "id": "NwTgpp6X_U3B"
      },
      "source": [
        "<h1 align=\"center\">  Experiment 1.D</h1> \n",
        "\n",
        "Date_____________\n",
        "\n",
        "AIM :Familarization of Pandas"
      ]
    },
    {
      "cell_type": "code",
      "execution_count": null,
      "metadata": {
        "id": "aSRxSAWatPzE"
      },
      "outputs": [],
      "source": [
        "import numpy as np\n",
        "import pandas as pd"
      ]
    },
    {
      "cell_type": "markdown",
      "metadata": {
        "id": "fdLsy1TIu_UV"
      },
      "source": [
        "#### Pandas Series\n",
        "* Create series type of data using data structures like tuples, arrays, list dictionary etc."
      ]
    },
    {
      "cell_type": "code",
      "execution_count": null,
      "metadata": {
        "colab": {
          "base_uri": "https://localhost:8080/"
        },
        "id": "RIwgaPDcuSOT",
        "outputId": "a94b266c-3133-4993-c965-79a96255d68f"
      },
      "outputs": [
        {
          "data": {
            "text/plain": [
              "0    10\n",
              "1    20\n",
              "2    30\n",
              "3    40\n",
              "4    50\n",
              "5    60\n",
              "6    70\n",
              "dtype: int64"
            ]
          },
          "execution_count": 2,
          "metadata": {},
          "output_type": "execute_result"
        }
      ],
      "source": [
        "# This is 1D representation of Data\n",
        "data = pd.Series([10, 20, 30, 40, 50, 60, 70])\n",
        "data"
      ]
    },
    {
      "cell_type": "code",
      "execution_count": null,
      "metadata": {
        "id": "LOtxGmHDvYbw"
      },
      "outputs": [],
      "source": [
        "data = pd.Series([10, 20, 30, 40, 50, 60, 128], index = ['a','b','c','d','e','f','g'], dtype = 'int8')  # int8 - 8bytes (-128 to +127)"
      ]
    },
    {
      "cell_type": "code",
      "execution_count": null,
      "metadata": {
        "colab": {
          "base_uri": "https://localhost:8080/"
        },
        "id": "qJ1GRmW1v44c",
        "outputId": "53f2f383-0e54-4a80-a3f7-ce6ca3b9cfe0"
      },
      "outputs": [
        {
          "data": {
            "text/plain": [
              "array([  10,   20,   30,   40,   50,   60, -128], dtype=int8)"
            ]
          },
          "execution_count": 7,
          "metadata": {},
          "output_type": "execute_result"
        }
      ],
      "source": [
        "data.values"
      ]
    },
    {
      "cell_type": "code",
      "execution_count": null,
      "metadata": {
        "colab": {
          "base_uri": "https://localhost:8080/"
        },
        "id": "jOmCyI0tv_Tu",
        "outputId": "b7dbef7d-9464-4934-ed1a-0620563dd2c3"
      },
      "outputs": [
        {
          "data": {
            "text/plain": [
              "Index(['a', 'b', 'c', 'd', 'e', 'f', 'g'], dtype='object')"
            ]
          },
          "execution_count": 5,
          "metadata": {},
          "output_type": "execute_result"
        }
      ],
      "source": [
        "data.index"
      ]
    },
    {
      "cell_type": "code",
      "execution_count": null,
      "metadata": {
        "id": "R5XfmkmWwBV4"
      },
      "outputs": [],
      "source": [
        "### Collection of Series\n",
        "# dtype = int16\n",
        "data_series = {\n",
        "                'Column1' :  pd.Series([100, 200, 300, 400, 500, 600, 700], dtype = 'int16'),\n",
        "                'Column2' :  pd.Series([10, 20, 30, 40, 50, 60, 70], dtype = 'int16')\n",
        "              }"
      ]
    },
    {
      "cell_type": "code",
      "execution_count": null,
      "metadata": {
        "colab": {
          "base_uri": "https://localhost:8080/"
        },
        "id": "GxwiNoc5yJMV",
        "outputId": "a4db1c44-f028-4313-946a-7016f91f3984"
      },
      "outputs": [
        {
          "data": {
            "text/plain": [
              "{'Column1': 0    100\n",
              " 1    200\n",
              " 2    300\n",
              " 3    400\n",
              " 4    500\n",
              " 5    600\n",
              " 6    700\n",
              " dtype: int16, 'Column2': 0    10\n",
              " 1    20\n",
              " 2    30\n",
              " 3    40\n",
              " 4    50\n",
              " 5    60\n",
              " 6    70\n",
              " dtype: int16}"
            ]
          },
          "execution_count": 9,
          "metadata": {},
          "output_type": "execute_result"
        }
      ],
      "source": [
        "data_series"
      ]
    },
    {
      "cell_type": "code",
      "execution_count": null,
      "metadata": {
        "colab": {
          "base_uri": "https://localhost:8080/",
          "height": 268
        },
        "id": "4RNqWrJNyKiO",
        "outputId": "174ef159-5990-4b1b-ec8a-bfc429b52946"
      },
      "outputs": [
        {
          "data": {
            "text/html": [
              "<div>\n",
              "<style scoped>\n",
              "    .dataframe tbody tr th:only-of-type {\n",
              "        vertical-align: middle;\n",
              "    }\n",
              "\n",
              "    .dataframe tbody tr th {\n",
              "        vertical-align: top;\n",
              "    }\n",
              "\n",
              "    .dataframe thead th {\n",
              "        text-align: right;\n",
              "    }\n",
              "</style>\n",
              "<table border=\"1\" class=\"dataframe\">\n",
              "  <thead>\n",
              "    <tr style=\"text-align: right;\">\n",
              "      <th></th>\n",
              "      <th>Column1</th>\n",
              "      <th>Column2</th>\n",
              "    </tr>\n",
              "  </thead>\n",
              "  <tbody>\n",
              "    <tr>\n",
              "      <th>0</th>\n",
              "      <td>100</td>\n",
              "      <td>10</td>\n",
              "    </tr>\n",
              "    <tr>\n",
              "      <th>1</th>\n",
              "      <td>200</td>\n",
              "      <td>20</td>\n",
              "    </tr>\n",
              "    <tr>\n",
              "      <th>2</th>\n",
              "      <td>300</td>\n",
              "      <td>30</td>\n",
              "    </tr>\n",
              "    <tr>\n",
              "      <th>3</th>\n",
              "      <td>400</td>\n",
              "      <td>40</td>\n",
              "    </tr>\n",
              "    <tr>\n",
              "      <th>4</th>\n",
              "      <td>500</td>\n",
              "      <td>50</td>\n",
              "    </tr>\n",
              "    <tr>\n",
              "      <th>5</th>\n",
              "      <td>600</td>\n",
              "      <td>60</td>\n",
              "    </tr>\n",
              "    <tr>\n",
              "      <th>6</th>\n",
              "      <td>700</td>\n",
              "      <td>70</td>\n",
              "    </tr>\n",
              "  </tbody>\n",
              "</table>\n",
              "</div>"
            ],
            "text/plain": [
              "   Column1  Column2\n",
              "0      100       10\n",
              "1      200       20\n",
              "2      300       30\n",
              "3      400       40\n",
              "4      500       50\n",
              "5      600       60\n",
              "6      700       70"
            ]
          },
          "execution_count": 10,
          "metadata": {},
          "output_type": "execute_result"
        }
      ],
      "source": [
        "pd.DataFrame(data_series) "
      ]
    },
    {
      "cell_type": "markdown",
      "metadata": {
        "id": "0efCjyzpzPvc"
      },
      "source": [
        "#### DataFrame\n",
        "* Represents multi-dimentional data into excel like spreadsheet or 2D representation of muti-dimentional"
      ]
    },
    {
      "cell_type": "code",
      "execution_count": null,
      "metadata": {
        "colab": {
          "base_uri": "https://localhost:8080/",
          "height": 422
        },
        "id": "XZzL-000yvNL",
        "outputId": "64a70c65-e09e-47f1-ad3e-e9b6c61ebc9e"
      },
      "outputs": [
        {
          "data": {
            "text/html": [
              "<div>\n",
              "<style scoped>\n",
              "    .dataframe tbody tr th:only-of-type {\n",
              "        vertical-align: middle;\n",
              "    }\n",
              "\n",
              "    .dataframe tbody tr th {\n",
              "        vertical-align: top;\n",
              "    }\n",
              "\n",
              "    .dataframe thead th {\n",
              "        text-align: right;\n",
              "    }\n",
              "</style>\n",
              "<table border=\"1\" class=\"dataframe\">\n",
              "  <thead>\n",
              "    <tr style=\"text-align: right;\">\n",
              "      <th></th>\n",
              "      <th>CRIM</th>\n",
              "      <th>ZN</th>\n",
              "      <th>INDUS</th>\n",
              "      <th>NOX</th>\n",
              "      <th>RM</th>\n",
              "      <th>AGE</th>\n",
              "      <th>DIS</th>\n",
              "      <th>TAX</th>\n",
              "      <th>PTRATIO</th>\n",
              "      <th>MEDV</th>\n",
              "    </tr>\n",
              "  </thead>\n",
              "  <tbody>\n",
              "    <tr>\n",
              "      <th>0</th>\n",
              "      <td>2.30040</td>\n",
              "      <td>0.0</td>\n",
              "      <td>19.58</td>\n",
              "      <td>0.605</td>\n",
              "      <td>6.319</td>\n",
              "      <td>96.1</td>\n",
              "      <td>2.1000</td>\n",
              "      <td>403</td>\n",
              "      <td>14.7</td>\n",
              "      <td>23.8</td>\n",
              "    </tr>\n",
              "    <tr>\n",
              "      <th>1</th>\n",
              "      <td>13.35980</td>\n",
              "      <td>0.0</td>\n",
              "      <td>18.10</td>\n",
              "      <td>0.693</td>\n",
              "      <td>5.887</td>\n",
              "      <td>94.7</td>\n",
              "      <td>1.7821</td>\n",
              "      <td>666</td>\n",
              "      <td>20.2</td>\n",
              "      <td>12.7</td>\n",
              "    </tr>\n",
              "    <tr>\n",
              "      <th>2</th>\n",
              "      <td>0.12744</td>\n",
              "      <td>0.0</td>\n",
              "      <td>6.91</td>\n",
              "      <td>0.448</td>\n",
              "      <td>6.770</td>\n",
              "      <td>2.9</td>\n",
              "      <td>5.7209</td>\n",
              "      <td>233</td>\n",
              "      <td>17.9</td>\n",
              "      <td>26.6</td>\n",
              "    </tr>\n",
              "    <tr>\n",
              "      <th>3</th>\n",
              "      <td>0.15876</td>\n",
              "      <td>0.0</td>\n",
              "      <td>10.81</td>\n",
              "      <td>0.413</td>\n",
              "      <td>5.961</td>\n",
              "      <td>17.5</td>\n",
              "      <td>5.2873</td>\n",
              "      <td>305</td>\n",
              "      <td>19.2</td>\n",
              "      <td>21.7</td>\n",
              "    </tr>\n",
              "    <tr>\n",
              "      <th>4</th>\n",
              "      <td>0.03768</td>\n",
              "      <td>80.0</td>\n",
              "      <td>1.52</td>\n",
              "      <td>0.404</td>\n",
              "      <td>7.274</td>\n",
              "      <td>38.3</td>\n",
              "      <td>7.3090</td>\n",
              "      <td>329</td>\n",
              "      <td>12.6</td>\n",
              "      <td>34.6</td>\n",
              "    </tr>\n",
              "    <tr>\n",
              "      <th>...</th>\n",
              "      <td>...</td>\n",
              "      <td>...</td>\n",
              "      <td>...</td>\n",
              "      <td>...</td>\n",
              "      <td>...</td>\n",
              "      <td>...</td>\n",
              "      <td>...</td>\n",
              "      <td>...</td>\n",
              "      <td>...</td>\n",
              "      <td>...</td>\n",
              "    </tr>\n",
              "    <tr>\n",
              "      <th>395</th>\n",
              "      <td>0.23912</td>\n",
              "      <td>0.0</td>\n",
              "      <td>9.69</td>\n",
              "      <td>0.585</td>\n",
              "      <td>6.019</td>\n",
              "      <td>65.3</td>\n",
              "      <td>2.4091</td>\n",
              "      <td>391</td>\n",
              "      <td>19.2</td>\n",
              "      <td>21.2</td>\n",
              "    </tr>\n",
              "    <tr>\n",
              "      <th>396</th>\n",
              "      <td>0.04560</td>\n",
              "      <td>0.0</td>\n",
              "      <td>13.89</td>\n",
              "      <td>0.550</td>\n",
              "      <td>5.888</td>\n",
              "      <td>56.0</td>\n",
              "      <td>3.1121</td>\n",
              "      <td>276</td>\n",
              "      <td>16.4</td>\n",
              "      <td>23.3</td>\n",
              "    </tr>\n",
              "    <tr>\n",
              "      <th>397</th>\n",
              "      <td>1.38799</td>\n",
              "      <td>0.0</td>\n",
              "      <td>8.14</td>\n",
              "      <td>0.538</td>\n",
              "      <td>5.950</td>\n",
              "      <td>82.0</td>\n",
              "      <td>3.9900</td>\n",
              "      <td>307</td>\n",
              "      <td>21.0</td>\n",
              "      <td>13.2</td>\n",
              "    </tr>\n",
              "    <tr>\n",
              "      <th>398</th>\n",
              "      <td>7.36711</td>\n",
              "      <td>0.0</td>\n",
              "      <td>18.10</td>\n",
              "      <td>0.679</td>\n",
              "      <td>6.193</td>\n",
              "      <td>78.1</td>\n",
              "      <td>1.9356</td>\n",
              "      <td>666</td>\n",
              "      <td>20.2</td>\n",
              "      <td>11.0</td>\n",
              "    </tr>\n",
              "    <tr>\n",
              "      <th>399</th>\n",
              "      <td>0.14150</td>\n",
              "      <td>0.0</td>\n",
              "      <td>6.91</td>\n",
              "      <td>0.448</td>\n",
              "      <td>6.169</td>\n",
              "      <td>6.6</td>\n",
              "      <td>5.7209</td>\n",
              "      <td>233</td>\n",
              "      <td>17.9</td>\n",
              "      <td>25.3</td>\n",
              "    </tr>\n",
              "  </tbody>\n",
              "</table>\n",
              "<p>400 rows × 10 columns</p>\n",
              "</div>"
            ],
            "text/plain": [
              "         CRIM    ZN  INDUS    NOX     RM   AGE     DIS  TAX  PTRATIO  MEDV\n",
              "0     2.30040   0.0  19.58  0.605  6.319  96.1  2.1000  403     14.7  23.8\n",
              "1    13.35980   0.0  18.10  0.693  5.887  94.7  1.7821  666     20.2  12.7\n",
              "2     0.12744   0.0   6.91  0.448  6.770   2.9  5.7209  233     17.9  26.6\n",
              "3     0.15876   0.0  10.81  0.413  5.961  17.5  5.2873  305     19.2  21.7\n",
              "4     0.03768  80.0   1.52  0.404  7.274  38.3  7.3090  329     12.6  34.6\n",
              "..        ...   ...    ...    ...    ...   ...     ...  ...      ...   ...\n",
              "395   0.23912   0.0   9.69  0.585  6.019  65.3  2.4091  391     19.2  21.2\n",
              "396   0.04560   0.0  13.89  0.550  5.888  56.0  3.1121  276     16.4  23.3\n",
              "397   1.38799   0.0   8.14  0.538  5.950  82.0  3.9900  307     21.0  13.2\n",
              "398   7.36711   0.0  18.10  0.679  6.193  78.1  1.9356  666     20.2  11.0\n",
              "399   0.14150   0.0   6.91  0.448  6.169   6.6  5.7209  233     17.9  25.3\n",
              "\n",
              "[400 rows x 10 columns]"
            ]
          },
          "metadata": {},
          "output_type": "display_data"
        }
      ],
      "source": [
        "movies_df = pd.read_csv('https://raw.githubusercontent.com/ammishra08/MachineLearning/master/Datasets/boston_train.csv', sep = ',')\n",
        "display(movies_df) "
      ]
    },
    {
      "cell_type": "code",
      "execution_count": null,
      "metadata": {
        "colab": {
          "base_uri": "https://localhost:8080/",
          "height": 205
        },
        "id": "QrrQP-WT0T7V",
        "outputId": "0514a87b-0f20-4c64-e108-9805ec6a39ef"
      },
      "outputs": [
        {
          "data": {
            "text/html": [
              "<div>\n",
              "<style scoped>\n",
              "    .dataframe tbody tr th:only-of-type {\n",
              "        vertical-align: middle;\n",
              "    }\n",
              "\n",
              "    .dataframe tbody tr th {\n",
              "        vertical-align: top;\n",
              "    }\n",
              "\n",
              "    .dataframe thead th {\n",
              "        text-align: right;\n",
              "    }\n",
              "</style>\n",
              "<table border=\"1\" class=\"dataframe\">\n",
              "  <thead>\n",
              "    <tr style=\"text-align: right;\">\n",
              "      <th></th>\n",
              "      <th>CRIM</th>\n",
              "      <th>ZN</th>\n",
              "      <th>INDUS</th>\n",
              "      <th>NOX</th>\n",
              "      <th>RM</th>\n",
              "      <th>AGE</th>\n",
              "      <th>DIS</th>\n",
              "      <th>TAX</th>\n",
              "      <th>PTRATIO</th>\n",
              "      <th>MEDV</th>\n",
              "    </tr>\n",
              "  </thead>\n",
              "  <tbody>\n",
              "    <tr>\n",
              "      <th>0</th>\n",
              "      <td>2.30040</td>\n",
              "      <td>0.0</td>\n",
              "      <td>19.58</td>\n",
              "      <td>0.605</td>\n",
              "      <td>6.319</td>\n",
              "      <td>96.1</td>\n",
              "      <td>2.1000</td>\n",
              "      <td>403</td>\n",
              "      <td>14.7</td>\n",
              "      <td>23.8</td>\n",
              "    </tr>\n",
              "    <tr>\n",
              "      <th>1</th>\n",
              "      <td>13.35980</td>\n",
              "      <td>0.0</td>\n",
              "      <td>18.10</td>\n",
              "      <td>0.693</td>\n",
              "      <td>5.887</td>\n",
              "      <td>94.7</td>\n",
              "      <td>1.7821</td>\n",
              "      <td>666</td>\n",
              "      <td>20.2</td>\n",
              "      <td>12.7</td>\n",
              "    </tr>\n",
              "    <tr>\n",
              "      <th>2</th>\n",
              "      <td>0.12744</td>\n",
              "      <td>0.0</td>\n",
              "      <td>6.91</td>\n",
              "      <td>0.448</td>\n",
              "      <td>6.770</td>\n",
              "      <td>2.9</td>\n",
              "      <td>5.7209</td>\n",
              "      <td>233</td>\n",
              "      <td>17.9</td>\n",
              "      <td>26.6</td>\n",
              "    </tr>\n",
              "    <tr>\n",
              "      <th>3</th>\n",
              "      <td>0.15876</td>\n",
              "      <td>0.0</td>\n",
              "      <td>10.81</td>\n",
              "      <td>0.413</td>\n",
              "      <td>5.961</td>\n",
              "      <td>17.5</td>\n",
              "      <td>5.2873</td>\n",
              "      <td>305</td>\n",
              "      <td>19.2</td>\n",
              "      <td>21.7</td>\n",
              "    </tr>\n",
              "    <tr>\n",
              "      <th>4</th>\n",
              "      <td>0.03768</td>\n",
              "      <td>80.0</td>\n",
              "      <td>1.52</td>\n",
              "      <td>0.404</td>\n",
              "      <td>7.274</td>\n",
              "      <td>38.3</td>\n",
              "      <td>7.3090</td>\n",
              "      <td>329</td>\n",
              "      <td>12.6</td>\n",
              "      <td>34.6</td>\n",
              "    </tr>\n",
              "  </tbody>\n",
              "</table>\n",
              "</div>"
            ],
            "text/plain": [
              "       CRIM    ZN  INDUS    NOX     RM   AGE     DIS  TAX  PTRATIO  MEDV\n",
              "0   2.30040   0.0  19.58  0.605  6.319  96.1  2.1000  403     14.7  23.8\n",
              "1  13.35980   0.0  18.10  0.693  5.887  94.7  1.7821  666     20.2  12.7\n",
              "2   0.12744   0.0   6.91  0.448  6.770   2.9  5.7209  233     17.9  26.6\n",
              "3   0.15876   0.0  10.81  0.413  5.961  17.5  5.2873  305     19.2  21.7\n",
              "4   0.03768  80.0   1.52  0.404  7.274  38.3  7.3090  329     12.6  34.6"
            ]
          },
          "execution_count": 12,
          "metadata": {},
          "output_type": "execute_result"
        }
      ],
      "source": [
        "# head display first five rows , tail() displays last 5 rows of DF\n",
        "movies_df.head()"
      ]
    },
    {
      "cell_type": "code",
      "execution_count": null,
      "metadata": {
        "colab": {
          "base_uri": "https://localhost:8080/",
          "height": 205
        },
        "id": "fAuhmryt0k9P",
        "outputId": "e3e8c8d6-c3b8-43aa-94ff-94e6514240b3"
      },
      "outputs": [
        {
          "data": {
            "text/html": [
              "<div>\n",
              "<style scoped>\n",
              "    .dataframe tbody tr th:only-of-type {\n",
              "        vertical-align: middle;\n",
              "    }\n",
              "\n",
              "    .dataframe tbody tr th {\n",
              "        vertical-align: top;\n",
              "    }\n",
              "\n",
              "    .dataframe thead th {\n",
              "        text-align: right;\n",
              "    }\n",
              "</style>\n",
              "<table border=\"1\" class=\"dataframe\">\n",
              "  <thead>\n",
              "    <tr style=\"text-align: right;\">\n",
              "      <th></th>\n",
              "      <th>CRIM</th>\n",
              "      <th>ZN</th>\n",
              "      <th>INDUS</th>\n",
              "      <th>NOX</th>\n",
              "      <th>RM</th>\n",
              "      <th>AGE</th>\n",
              "      <th>DIS</th>\n",
              "      <th>TAX</th>\n",
              "      <th>PTRATIO</th>\n",
              "      <th>MEDV</th>\n",
              "    </tr>\n",
              "  </thead>\n",
              "  <tbody>\n",
              "    <tr>\n",
              "      <th>395</th>\n",
              "      <td>0.23912</td>\n",
              "      <td>0.0</td>\n",
              "      <td>9.69</td>\n",
              "      <td>0.585</td>\n",
              "      <td>6.019</td>\n",
              "      <td>65.3</td>\n",
              "      <td>2.4091</td>\n",
              "      <td>391</td>\n",
              "      <td>19.2</td>\n",
              "      <td>21.2</td>\n",
              "    </tr>\n",
              "    <tr>\n",
              "      <th>396</th>\n",
              "      <td>0.04560</td>\n",
              "      <td>0.0</td>\n",
              "      <td>13.89</td>\n",
              "      <td>0.550</td>\n",
              "      <td>5.888</td>\n",
              "      <td>56.0</td>\n",
              "      <td>3.1121</td>\n",
              "      <td>276</td>\n",
              "      <td>16.4</td>\n",
              "      <td>23.3</td>\n",
              "    </tr>\n",
              "    <tr>\n",
              "      <th>397</th>\n",
              "      <td>1.38799</td>\n",
              "      <td>0.0</td>\n",
              "      <td>8.14</td>\n",
              "      <td>0.538</td>\n",
              "      <td>5.950</td>\n",
              "      <td>82.0</td>\n",
              "      <td>3.9900</td>\n",
              "      <td>307</td>\n",
              "      <td>21.0</td>\n",
              "      <td>13.2</td>\n",
              "    </tr>\n",
              "    <tr>\n",
              "      <th>398</th>\n",
              "      <td>7.36711</td>\n",
              "      <td>0.0</td>\n",
              "      <td>18.10</td>\n",
              "      <td>0.679</td>\n",
              "      <td>6.193</td>\n",
              "      <td>78.1</td>\n",
              "      <td>1.9356</td>\n",
              "      <td>666</td>\n",
              "      <td>20.2</td>\n",
              "      <td>11.0</td>\n",
              "    </tr>\n",
              "    <tr>\n",
              "      <th>399</th>\n",
              "      <td>0.14150</td>\n",
              "      <td>0.0</td>\n",
              "      <td>6.91</td>\n",
              "      <td>0.448</td>\n",
              "      <td>6.169</td>\n",
              "      <td>6.6</td>\n",
              "      <td>5.7209</td>\n",
              "      <td>233</td>\n",
              "      <td>17.9</td>\n",
              "      <td>25.3</td>\n",
              "    </tr>\n",
              "  </tbody>\n",
              "</table>\n",
              "</div>"
            ],
            "text/plain": [
              "        CRIM   ZN  INDUS    NOX     RM   AGE     DIS  TAX  PTRATIO  MEDV\n",
              "395  0.23912  0.0   9.69  0.585  6.019  65.3  2.4091  391     19.2  21.2\n",
              "396  0.04560  0.0  13.89  0.550  5.888  56.0  3.1121  276     16.4  23.3\n",
              "397  1.38799  0.0   8.14  0.538  5.950  82.0  3.9900  307     21.0  13.2\n",
              "398  7.36711  0.0  18.10  0.679  6.193  78.1  1.9356  666     20.2  11.0\n",
              "399  0.14150  0.0   6.91  0.448  6.169   6.6  5.7209  233     17.9  25.3"
            ]
          },
          "execution_count": 13,
          "metadata": {},
          "output_type": "execute_result"
        }
      ],
      "source": [
        "# head display first five rows , tail() displays last 5 rows of DF\n",
        "movies_df.tail()"
      ]
    },
    {
      "cell_type": "code",
      "execution_count": null,
      "metadata": {
        "id": "hHYQWN_c1Hui"
      },
      "outputs": [],
      "source": [
        "# Read an excel file\n",
        "stock_data = pd.read_excel(\"https://github.com/ammishra08/MachineLearning/blob/master/Datasets/data_akbilgic.xlsx?raw=true\", header=1 )"
      ]
    },
    {
      "cell_type": "code",
      "execution_count": null,
      "metadata": {
        "colab": {
          "base_uri": "https://localhost:8080/",
          "height": 422
        },
        "id": "l3VhExt71lHi",
        "outputId": "3acd0a69-2d59-4cfc-c599-6c81d75e492c"
      },
      "outputs": [
        {
          "data": {
            "text/html": [
              "<div>\n",
              "<style scoped>\n",
              "    .dataframe tbody tr th:only-of-type {\n",
              "        vertical-align: middle;\n",
              "    }\n",
              "\n",
              "    .dataframe tbody tr th {\n",
              "        vertical-align: top;\n",
              "    }\n",
              "\n",
              "    .dataframe thead th {\n",
              "        text-align: right;\n",
              "    }\n",
              "</style>\n",
              "<table border=\"1\" class=\"dataframe\">\n",
              "  <thead>\n",
              "    <tr style=\"text-align: right;\">\n",
              "      <th></th>\n",
              "      <th>date</th>\n",
              "      <th>ISE</th>\n",
              "      <th>ISE.1</th>\n",
              "      <th>SP</th>\n",
              "      <th>DAX</th>\n",
              "      <th>FTSE</th>\n",
              "      <th>NIKKEI</th>\n",
              "      <th>BOVESPA</th>\n",
              "      <th>EU</th>\n",
              "      <th>EM</th>\n",
              "    </tr>\n",
              "  </thead>\n",
              "  <tbody>\n",
              "    <tr>\n",
              "      <th>0</th>\n",
              "      <td>2009-01-05</td>\n",
              "      <td>0.035754</td>\n",
              "      <td>0.038376</td>\n",
              "      <td>-0.004679</td>\n",
              "      <td>0.002193</td>\n",
              "      <td>0.003894</td>\n",
              "      <td>0.000000</td>\n",
              "      <td>0.031190</td>\n",
              "      <td>0.012698</td>\n",
              "      <td>0.028524</td>\n",
              "    </tr>\n",
              "    <tr>\n",
              "      <th>1</th>\n",
              "      <td>2009-01-06</td>\n",
              "      <td>0.025426</td>\n",
              "      <td>0.031813</td>\n",
              "      <td>0.007787</td>\n",
              "      <td>0.008455</td>\n",
              "      <td>0.012866</td>\n",
              "      <td>0.004162</td>\n",
              "      <td>0.018920</td>\n",
              "      <td>0.011341</td>\n",
              "      <td>0.008773</td>\n",
              "    </tr>\n",
              "    <tr>\n",
              "      <th>2</th>\n",
              "      <td>2009-01-07</td>\n",
              "      <td>-0.028862</td>\n",
              "      <td>-0.026353</td>\n",
              "      <td>-0.030469</td>\n",
              "      <td>-0.017833</td>\n",
              "      <td>-0.028735</td>\n",
              "      <td>0.017293</td>\n",
              "      <td>-0.035899</td>\n",
              "      <td>-0.017073</td>\n",
              "      <td>-0.020015</td>\n",
              "    </tr>\n",
              "    <tr>\n",
              "      <th>3</th>\n",
              "      <td>2009-01-08</td>\n",
              "      <td>-0.062208</td>\n",
              "      <td>-0.084716</td>\n",
              "      <td>0.003391</td>\n",
              "      <td>-0.011726</td>\n",
              "      <td>-0.000466</td>\n",
              "      <td>-0.040061</td>\n",
              "      <td>0.028283</td>\n",
              "      <td>-0.005561</td>\n",
              "      <td>-0.019424</td>\n",
              "    </tr>\n",
              "    <tr>\n",
              "      <th>4</th>\n",
              "      <td>2009-01-09</td>\n",
              "      <td>0.009860</td>\n",
              "      <td>0.009658</td>\n",
              "      <td>-0.021533</td>\n",
              "      <td>-0.019873</td>\n",
              "      <td>-0.012710</td>\n",
              "      <td>-0.004474</td>\n",
              "      <td>-0.009764</td>\n",
              "      <td>-0.010989</td>\n",
              "      <td>-0.007802</td>\n",
              "    </tr>\n",
              "    <tr>\n",
              "      <th>...</th>\n",
              "      <td>...</td>\n",
              "      <td>...</td>\n",
              "      <td>...</td>\n",
              "      <td>...</td>\n",
              "      <td>...</td>\n",
              "      <td>...</td>\n",
              "      <td>...</td>\n",
              "      <td>...</td>\n",
              "      <td>...</td>\n",
              "      <td>...</td>\n",
              "    </tr>\n",
              "    <tr>\n",
              "      <th>531</th>\n",
              "      <td>2011-02-16</td>\n",
              "      <td>0.008599</td>\n",
              "      <td>0.013400</td>\n",
              "      <td>0.006238</td>\n",
              "      <td>0.001925</td>\n",
              "      <td>0.007952</td>\n",
              "      <td>0.005717</td>\n",
              "      <td>0.018371</td>\n",
              "      <td>0.006975</td>\n",
              "      <td>0.003039</td>\n",
              "    </tr>\n",
              "    <tr>\n",
              "      <th>532</th>\n",
              "      <td>2011-02-17</td>\n",
              "      <td>0.009310</td>\n",
              "      <td>0.015977</td>\n",
              "      <td>0.003071</td>\n",
              "      <td>-0.001186</td>\n",
              "      <td>0.000345</td>\n",
              "      <td>0.002620</td>\n",
              "      <td>0.001686</td>\n",
              "      <td>-0.000581</td>\n",
              "      <td>0.001039</td>\n",
              "    </tr>\n",
              "    <tr>\n",
              "      <th>533</th>\n",
              "      <td>2011-02-18</td>\n",
              "      <td>0.000191</td>\n",
              "      <td>-0.001653</td>\n",
              "      <td>0.001923</td>\n",
              "      <td>0.002872</td>\n",
              "      <td>-0.000723</td>\n",
              "      <td>0.000568</td>\n",
              "      <td>0.005628</td>\n",
              "      <td>0.000572</td>\n",
              "      <td>0.006938</td>\n",
              "    </tr>\n",
              "    <tr>\n",
              "      <th>534</th>\n",
              "      <td>2011-02-21</td>\n",
              "      <td>-0.013069</td>\n",
              "      <td>-0.013706</td>\n",
              "      <td>-0.020742</td>\n",
              "      <td>-0.014239</td>\n",
              "      <td>-0.011275</td>\n",
              "      <td>0.001358</td>\n",
              "      <td>-0.011942</td>\n",
              "      <td>-0.012615</td>\n",
              "      <td>-0.000958</td>\n",
              "    </tr>\n",
              "    <tr>\n",
              "      <th>535</th>\n",
              "      <td>2011-02-22</td>\n",
              "      <td>-0.007246</td>\n",
              "      <td>-0.019442</td>\n",
              "      <td>0.000000</td>\n",
              "      <td>-0.000473</td>\n",
              "      <td>-0.002997</td>\n",
              "      <td>-0.017920</td>\n",
              "      <td>-0.012252</td>\n",
              "      <td>-0.005465</td>\n",
              "      <td>-0.014297</td>\n",
              "    </tr>\n",
              "  </tbody>\n",
              "</table>\n",
              "<p>536 rows × 10 columns</p>\n",
              "</div>"
            ],
            "text/plain": [
              "          date       ISE     ISE.1  ...   BOVESPA        EU        EM\n",
              "0   2009-01-05  0.035754  0.038376  ...  0.031190  0.012698  0.028524\n",
              "1   2009-01-06  0.025426  0.031813  ...  0.018920  0.011341  0.008773\n",
              "2   2009-01-07 -0.028862 -0.026353  ... -0.035899 -0.017073 -0.020015\n",
              "3   2009-01-08 -0.062208 -0.084716  ...  0.028283 -0.005561 -0.019424\n",
              "4   2009-01-09  0.009860  0.009658  ... -0.009764 -0.010989 -0.007802\n",
              "..         ...       ...       ...  ...       ...       ...       ...\n",
              "531 2011-02-16  0.008599  0.013400  ...  0.018371  0.006975  0.003039\n",
              "532 2011-02-17  0.009310  0.015977  ...  0.001686 -0.000581  0.001039\n",
              "533 2011-02-18  0.000191 -0.001653  ...  0.005628  0.000572  0.006938\n",
              "534 2011-02-21 -0.013069 -0.013706  ... -0.011942 -0.012615 -0.000958\n",
              "535 2011-02-22 -0.007246 -0.019442  ... -0.012252 -0.005465 -0.014297\n",
              "\n",
              "[536 rows x 10 columns]"
            ]
          },
          "execution_count": 20,
          "metadata": {},
          "output_type": "execute_result"
        }
      ],
      "source": [
        "stock_data "
      ]
    },
    {
      "cell_type": "code",
      "execution_count": null,
      "metadata": {
        "colab": {
          "base_uri": "https://localhost:8080/"
        },
        "id": "JcRsz7Ey10XT",
        "outputId": "af2cc5d7-6428-467e-9ac3-4135e5ceea30"
      },
      "outputs": [
        {
          "data": {
            "text/plain": [
              "(400, 10)"
            ]
          },
          "execution_count": 21,
          "metadata": {},
          "output_type": "execute_result"
        }
      ],
      "source": [
        "# Display Shape (rows, columns)\n",
        "movies_df.shape"
      ]
    },
    {
      "cell_type": "code",
      "execution_count": null,
      "metadata": {
        "colab": {
          "base_uri": "https://localhost:8080/"
        },
        "id": "eEKTgf8E2PFj",
        "outputId": "005abebf-e29f-4dfd-8e66-60405ef0371b"
      },
      "outputs": [
        {
          "data": {
            "text/plain": [
              "Index(['CRIM', 'ZN', 'INDUS', 'NOX', 'RM', 'AGE', 'DIS', 'TAX', 'PTRATIO',\n",
              "       'MEDV'],\n",
              "      dtype='object')"
            ]
          },
          "execution_count": 22,
          "metadata": {},
          "output_type": "execute_result"
        }
      ],
      "source": [
        "movies_df.columns "
      ]
    },
    {
      "cell_type": "code",
      "execution_count": null,
      "metadata": {
        "colab": {
          "base_uri": "https://localhost:8080/"
        },
        "id": "tkgvgxci2eFc",
        "outputId": "531659d5-e50e-4369-aeed-453c832b64f3"
      },
      "outputs": [
        {
          "data": {
            "text/plain": [
              "10"
            ]
          },
          "execution_count": 23,
          "metadata": {},
          "output_type": "execute_result"
        }
      ],
      "source": [
        "len(movies_df.columns)"
      ]
    },
    {
      "cell_type": "code",
      "execution_count": null,
      "metadata": {
        "colab": {
          "base_uri": "https://localhost:8080/"
        },
        "id": "4i7mhPRe2naE",
        "outputId": "41a09bec-f3ff-4fa5-f3dd-78d7db201d25"
      },
      "outputs": [
        {
          "name": "stdout",
          "output_type": "stream",
          "text": [
            "400 10\n"
          ]
        }
      ],
      "source": [
        "# print rows & columns\n",
        "# indexes\n",
        "print(movies_df.shape[0], movies_df.shape[1])"
      ]
    },
    {
      "cell_type": "markdown",
      "metadata": {
        "id": "hv0OYTyw3FcY"
      },
      "source": [
        "#### Data Manipulation"
      ]
    },
    {
      "cell_type": "code",
      "execution_count": null,
      "metadata": {
        "id": "xz8gFY1U2zYa"
      },
      "outputs": [],
      "source": [
        "data_series = {\n",
        "                'Column1' :  pd.Series([100, 200, 300, 400, 500, 600], index = ['a','b','c','d','e','f'], dtype = 'int16'),\n",
        "                'Column2' :  pd.Series([10, 20, 30, 40, 50, 70], index = ['a','b','c','d','e','g'], dtype = 'int16')\n",
        "              }"
      ]
    },
    {
      "cell_type": "code",
      "execution_count": null,
      "metadata": {
        "id": "X1LalAM23XNj"
      },
      "outputs": [],
      "source": [
        "df = pd.DataFrame(data_series)"
      ]
    },
    {
      "cell_type": "code",
      "execution_count": null,
      "metadata": {
        "colab": {
          "base_uri": "https://localhost:8080/",
          "height": 268
        },
        "id": "tzTUERD-3bTt",
        "outputId": "2e169e04-35ba-48e9-9de8-1fd70a614d1e"
      },
      "outputs": [
        {
          "data": {
            "text/html": [
              "<div>\n",
              "<style scoped>\n",
              "    .dataframe tbody tr th:only-of-type {\n",
              "        vertical-align: middle;\n",
              "    }\n",
              "\n",
              "    .dataframe tbody tr th {\n",
              "        vertical-align: top;\n",
              "    }\n",
              "\n",
              "    .dataframe thead th {\n",
              "        text-align: right;\n",
              "    }\n",
              "</style>\n",
              "<table border=\"1\" class=\"dataframe\">\n",
              "  <thead>\n",
              "    <tr style=\"text-align: right;\">\n",
              "      <th></th>\n",
              "      <th>Column1</th>\n",
              "      <th>Column2</th>\n",
              "    </tr>\n",
              "  </thead>\n",
              "  <tbody>\n",
              "    <tr>\n",
              "      <th>a</th>\n",
              "      <td>False</td>\n",
              "      <td>False</td>\n",
              "    </tr>\n",
              "    <tr>\n",
              "      <th>b</th>\n",
              "      <td>False</td>\n",
              "      <td>False</td>\n",
              "    </tr>\n",
              "    <tr>\n",
              "      <th>c</th>\n",
              "      <td>False</td>\n",
              "      <td>False</td>\n",
              "    </tr>\n",
              "    <tr>\n",
              "      <th>d</th>\n",
              "      <td>False</td>\n",
              "      <td>False</td>\n",
              "    </tr>\n",
              "    <tr>\n",
              "      <th>e</th>\n",
              "      <td>False</td>\n",
              "      <td>False</td>\n",
              "    </tr>\n",
              "    <tr>\n",
              "      <th>f</th>\n",
              "      <td>False</td>\n",
              "      <td>True</td>\n",
              "    </tr>\n",
              "    <tr>\n",
              "      <th>g</th>\n",
              "      <td>True</td>\n",
              "      <td>False</td>\n",
              "    </tr>\n",
              "  </tbody>\n",
              "</table>\n",
              "</div>"
            ],
            "text/plain": [
              "   Column1  Column2\n",
              "a    False    False\n",
              "b    False    False\n",
              "c    False    False\n",
              "d    False    False\n",
              "e    False    False\n",
              "f    False     True\n",
              "g     True    False"
            ]
          },
          "execution_count": 32,
          "metadata": {},
          "output_type": "execute_result"
        }
      ],
      "source": [
        "df.isnull() "
      ]
    },
    {
      "cell_type": "code",
      "execution_count": null,
      "metadata": {
        "colab": {
          "base_uri": "https://localhost:8080/"
        },
        "id": "hTuLmsE13tMb",
        "outputId": "e023ffce-1972-4502-9d86-93ec06b63d32"
      },
      "outputs": [
        {
          "data": {
            "text/plain": [
              "Column1    1\n",
              "Column2    1\n",
              "dtype: int64"
            ]
          },
          "execution_count": 33,
          "metadata": {},
          "output_type": "execute_result"
        }
      ],
      "source": [
        "df.isnull().sum()"
      ]
    },
    {
      "cell_type": "code",
      "execution_count": null,
      "metadata": {
        "colab": {
          "base_uri": "https://localhost:8080/"
        },
        "id": "opaaBrA_30_U",
        "outputId": "61aa81f8-2923-46b9-d6d1-455e84836a49"
      },
      "outputs": [
        {
          "data": {
            "text/plain": [
              "Column1    1\n",
              "Column2    1\n",
              "dtype: int64"
            ]
          },
          "execution_count": 35,
          "metadata": {},
          "output_type": "execute_result"
        }
      ],
      "source": [
        "df.isna().sum()"
      ]
    },
    {
      "cell_type": "code",
      "execution_count": null,
      "metadata": {
        "colab": {
          "base_uri": "https://localhost:8080/",
          "height": 268
        },
        "id": "OrXipAIp4Bxx",
        "outputId": "8db0afc2-9136-4ef8-a9b8-2e28b6ef4a5b"
      },
      "outputs": [
        {
          "data": {
            "text/html": [
              "<div>\n",
              "<style scoped>\n",
              "    .dataframe tbody tr th:only-of-type {\n",
              "        vertical-align: middle;\n",
              "    }\n",
              "\n",
              "    .dataframe tbody tr th {\n",
              "        vertical-align: top;\n",
              "    }\n",
              "\n",
              "    .dataframe thead th {\n",
              "        text-align: right;\n",
              "    }\n",
              "</style>\n",
              "<table border=\"1\" class=\"dataframe\">\n",
              "  <thead>\n",
              "    <tr style=\"text-align: right;\">\n",
              "      <th></th>\n",
              "      <th>Column1</th>\n",
              "      <th>Column2</th>\n",
              "    </tr>\n",
              "  </thead>\n",
              "  <tbody>\n",
              "    <tr>\n",
              "      <th>a</th>\n",
              "      <td>True</td>\n",
              "      <td>True</td>\n",
              "    </tr>\n",
              "    <tr>\n",
              "      <th>b</th>\n",
              "      <td>True</td>\n",
              "      <td>True</td>\n",
              "    </tr>\n",
              "    <tr>\n",
              "      <th>c</th>\n",
              "      <td>True</td>\n",
              "      <td>True</td>\n",
              "    </tr>\n",
              "    <tr>\n",
              "      <th>d</th>\n",
              "      <td>True</td>\n",
              "      <td>True</td>\n",
              "    </tr>\n",
              "    <tr>\n",
              "      <th>e</th>\n",
              "      <td>True</td>\n",
              "      <td>True</td>\n",
              "    </tr>\n",
              "    <tr>\n",
              "      <th>f</th>\n",
              "      <td>True</td>\n",
              "      <td>False</td>\n",
              "    </tr>\n",
              "    <tr>\n",
              "      <th>g</th>\n",
              "      <td>False</td>\n",
              "      <td>True</td>\n",
              "    </tr>\n",
              "  </tbody>\n",
              "</table>\n",
              "</div>"
            ],
            "text/plain": [
              "   Column1  Column2\n",
              "a     True     True\n",
              "b     True     True\n",
              "c     True     True\n",
              "d     True     True\n",
              "e     True     True\n",
              "f     True    False\n",
              "g    False     True"
            ]
          },
          "execution_count": 36,
          "metadata": {},
          "output_type": "execute_result"
        }
      ],
      "source": [
        "df.notnull()"
      ]
    },
    {
      "cell_type": "code",
      "execution_count": null,
      "metadata": {
        "colab": {
          "base_uri": "https://localhost:8080/",
          "height": 80
        },
        "id": "mILMJmY_4hNW",
        "outputId": "4c57525a-0ece-4e9e-8015-a37ae8ef8fed"
      },
      "outputs": [
        {
          "data": {
            "text/html": [
              "<div>\n",
              "<style scoped>\n",
              "    .dataframe tbody tr th:only-of-type {\n",
              "        vertical-align: middle;\n",
              "    }\n",
              "\n",
              "    .dataframe tbody tr th {\n",
              "        vertical-align: top;\n",
              "    }\n",
              "\n",
              "    .dataframe thead th {\n",
              "        text-align: right;\n",
              "    }\n",
              "</style>\n",
              "<table border=\"1\" class=\"dataframe\">\n",
              "  <thead>\n",
              "    <tr style=\"text-align: right;\">\n",
              "      <th></th>\n",
              "      <th>Column1</th>\n",
              "      <th>Column2</th>\n",
              "    </tr>\n",
              "  </thead>\n",
              "  <tbody>\n",
              "    <tr>\n",
              "      <th>g</th>\n",
              "      <td>NaN</td>\n",
              "      <td>70.0</td>\n",
              "    </tr>\n",
              "  </tbody>\n",
              "</table>\n",
              "</div>"
            ],
            "text/plain": [
              "   Column1  Column2\n",
              "g      NaN     70.0"
            ]
          },
          "execution_count": 37,
          "metadata": {},
          "output_type": "execute_result"
        }
      ],
      "source": [
        "df[df['Column1'].isnull() == True]"
      ]
    },
    {
      "cell_type": "code",
      "execution_count": null,
      "metadata": {
        "colab": {
          "base_uri": "https://localhost:8080/",
          "height": 80
        },
        "id": "QGCV-j1640UE",
        "outputId": "5e0faad5-2797-4469-f0c0-a1222f43ca91"
      },
      "outputs": [
        {
          "data": {
            "text/html": [
              "<div>\n",
              "<style scoped>\n",
              "    .dataframe tbody tr th:only-of-type {\n",
              "        vertical-align: middle;\n",
              "    }\n",
              "\n",
              "    .dataframe tbody tr th {\n",
              "        vertical-align: top;\n",
              "    }\n",
              "\n",
              "    .dataframe thead th {\n",
              "        text-align: right;\n",
              "    }\n",
              "</style>\n",
              "<table border=\"1\" class=\"dataframe\">\n",
              "  <thead>\n",
              "    <tr style=\"text-align: right;\">\n",
              "      <th></th>\n",
              "      <th>Column1</th>\n",
              "      <th>Column2</th>\n",
              "    </tr>\n",
              "  </thead>\n",
              "  <tbody>\n",
              "    <tr>\n",
              "      <th>f</th>\n",
              "      <td>600.0</td>\n",
              "      <td>NaN</td>\n",
              "    </tr>\n",
              "  </tbody>\n",
              "</table>\n",
              "</div>"
            ],
            "text/plain": [
              "   Column1  Column2\n",
              "f    600.0      NaN"
            ]
          },
          "execution_count": 38,
          "metadata": {},
          "output_type": "execute_result"
        }
      ],
      "source": [
        "df[df['Column2'].isnull() == True]"
      ]
    },
    {
      "cell_type": "code",
      "execution_count": null,
      "metadata": {
        "id": "aC0PpXhX43oi"
      },
      "outputs": [],
      "source": [
        ""
      ]
    }
  ],
  "metadata": {
    "colab": {
      "name": "EXPERIMENT 1D Pandas .ipynb",
      "provenance": [],
      "include_colab_link": true
    },
    "kernelspec": {
      "display_name": "Python 3",
      "language": "python",
      "name": "python3"
    },
    "language_info": {
      "codemirror_mode": {
        "name": "ipython",
        "version": 3
      },
      "file_extension": ".py",
      "mimetype": "text/x-python",
      "name": "python",
      "nbconvert_exporter": "python",
      "pygments_lexer": "ipython3",
      "version": "3.8.8"
    }
  },
  "nbformat": 4,
  "nbformat_minor": 0
}